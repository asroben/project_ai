{
 "cells": [
  {
   "cell_type": "code",
   "execution_count": 1,
   "metadata": {
    "collapsed": true
   },
   "outputs": [],
   "source": [
    "import numpy as np\n",
    "import os\n",
    "from shutil import copyfile"
   ]
  },
  {
   "cell_type": "code",
   "execution_count": 2,
   "metadata": {
    "collapsed": true
   },
   "outputs": [],
   "source": [
    "cwd = os.getcwd()"
   ]
  },
  {
   "cell_type": "code",
   "execution_count": 3,
   "metadata": {
    "collapsed": true
   },
   "outputs": [],
   "source": [
    "frames = ['HazzBerry', 'GerretLight', 'Enzo']\n",
    "colors = ['obsidianBlack', 'glamourRed', 'goldPotato', 'tornadoBlue', 'lushGreen']"
   ]
  },
  {
   "cell_type": "code",
   "execution_count": 4,
   "metadata": {},
   "outputs": [],
   "source": [
    "# make directories\n",
    "out_dir = 'augmented_data'\n",
    "os.makedirs(out_dir)\n",
    "os.makedirs(out_dir + '/train')\n",
    "os.makedirs(out_dir + '/val')"
   ]
  },
  {
   "cell_type": "code",
   "execution_count": 5,
   "metadata": {
    "collapsed": true
   },
   "outputs": [],
   "source": [
    "num_imgs = 9*3#900\n",
    "perc_train = 0.8\n",
    "perc_val = 0.2\n",
    "\n",
    "num_train = int(0.8*num_imgs)\n",
    "num_val = num_imgs - num_train"
   ]
  },
  {
   "cell_type": "code",
   "execution_count": 6,
   "metadata": {},
   "outputs": [
    {
     "data": {
      "text/plain": [
       "21"
      ]
     },
     "execution_count": 6,
     "metadata": {},
     "output_type": "execute_result"
    }
   ],
   "source": [
    "num_train"
   ]
  },
  {
   "cell_type": "code",
   "execution_count": 7,
   "metadata": {},
   "outputs": [],
   "source": [
    "# divide pics to train/val\n",
    "for frame in frames:\n",
    "    for color in colors:\n",
    "        src_dir_name = 'processed_data'\n",
    "        class_dir = frame + '_' + color\n",
    "\n",
    "        # select train/val imgs of cur class\n",
    "        all_imgs = os.listdir(src_dir_name + '/' + class_dir)\n",
    "        all_imgs = np.random.permutation(all_imgs)\n",
    "        to_train = all_imgs[0:num_train]\n",
    "        to_val = all_imgs[num_train:]\n",
    "\n",
    "        # copy the imgs to directories\n",
    "        os.makedirs(out_dir + '/train' + '/' + class_dir)\n",
    "        os.makedirs(out_dir + '/val' + '/' + class_dir)\n",
    "\n",
    "        # train\n",
    "        for k in range(0, num_train):\n",
    "            src = cwd + '/' + src_dir_name + '/' + class_dir + '/' + to_train[k]\n",
    "            dst = cwd + '/' + out_dir + '/train' + '/' + class_dir + '/' + to_train[k]\n",
    "            copyfile(src, dst)\n",
    "\n",
    "        # val\n",
    "        for k in range(0, num_val):\n",
    "            src = cwd + '/' + src_dir_name + '/' + class_dir + '/' + to_val[k]\n",
    "            dst = cwd + '/' + out_dir + '/val' + '/' + class_dir + '/' + to_val[k]\n",
    "            copyfile(src, dst)"
   ]
  },
  {
   "cell_type": "code",
   "execution_count": null,
   "metadata": {
    "collapsed": true
   },
   "outputs": [],
   "source": []
  },
  {
   "cell_type": "code",
   "execution_count": null,
   "metadata": {
    "collapsed": true
   },
   "outputs": [],
   "source": []
  },
  {
   "cell_type": "code",
   "execution_count": null,
   "metadata": {
    "collapsed": true
   },
   "outputs": [],
   "source": []
  }
 ],
 "metadata": {
  "kernelspec": {
   "display_name": "Python 3",
   "language": "python",
   "name": "python3"
  },
  "language_info": {
   "codemirror_mode": {
    "name": "ipython",
    "version": 3
   },
   "file_extension": ".py",
   "mimetype": "text/x-python",
   "name": "python",
   "nbconvert_exporter": "python",
   "pygments_lexer": "ipython3",
   "version": "3.6.2"
  }
 },
 "nbformat": 4,
 "nbformat_minor": 2
}
