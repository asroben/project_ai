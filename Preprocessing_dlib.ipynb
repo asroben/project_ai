{
 "cells": [
  {
   "cell_type": "markdown",
   "metadata": {},
   "source": [
    "# Preprocessing\n",
    "\n",
    "The clean and preprocess section will divide batch images into seperate class folders. \n",
    "\n",
    "The split section will divide those folders into train and validation sets. "
   ]
  },
  {
   "cell_type": "code",
   "execution_count": 6,
   "metadata": {
    "collapsed": true
   },
   "outputs": [],
   "source": [
    "import os\n",
    "import imghdr\n",
    "import itertools\n",
    "import numpy as np\n",
    "import imageio\n",
    "import scipy.misc\n",
    "import matplotlib.pyplot as plt\n",
    "import random\n",
    "from math import floor\n",
    "from shutil import copyfile, move, copytree\n",
    "\n",
    "random.seed(101)"
   ]
  },
  {
   "cell_type": "code",
   "execution_count": 7,
   "metadata": {},
   "outputs": [
    {
     "name": "stdout",
     "output_type": "stream",
     "text": [
      "/home/michael/Downloads/landmark_test\n"
     ]
    }
   ],
   "source": [
    "cwd = os.getcwd()\n",
    "print(cwd)"
   ]
  },
  {
   "cell_type": "markdown",
   "metadata": {},
   "source": [
    "# Batch Concatenation\n",
    "\n",
    "Uncomment and run below cell if augmented data has been received in multiple batches.   \n",
    "Add the unzipped batch folders into the \"Received_Batches\" folder, then run the cell below. "
   ]
  },
  {
   "cell_type": "code",
   "execution_count": 3,
   "metadata": {},
   "outputs": [
    {
     "name": "stdout",
     "output_type": "stream",
     "text": [
      "['.DS_Store', 'batch 7', 'batch 6', 'batch_processed-9', 'batch_processed-8', 'batch', 'batch 4', 'batch 3', 'batch 2', 'batch 5']\n"
     ]
    }
   ],
   "source": [
    "\n",
    "source_folder = 'Received_Batches'\n",
    "dst = 'batch'\n",
    "\n",
    "if not os.path.exists(dst):\n",
    "    os.makedirs(dst)\n",
    "    \n",
    "subfolders = os.listdir(os.path.join(cwd, source_folder))\n",
    "print(subfolders)\n",
    "\n",
    "i = 0\n",
    "\n",
    "for sub in subfolders:\n",
    "    if(sub != '.DS_Store'):\n",
    "\n",
    "        subsubfolders = os.listdir(os.path.join(os.path.join(cwd, source_folder), sub))\n",
    "        \n",
    "        for subsub in subsubfolders:\n",
    "    \n",
    "            if(\"Store\" in subsub):\n",
    "                    continue\n",
    "                \n",
    "            if(sub != '.DS_Store'):\n",
    "                #print(subsub)\n",
    "                if(i < 10):\n",
    "                    foldername = \"0\" + str(i)\n",
    "                else:\n",
    "                    foldername = str(i)\n",
    "                src = cwd + \"/\" + source_folder + \"/\" + sub + \"/\" + subsub\n",
    "                dest = cwd + \"/\" + dst + \"/\" + foldername\n",
    "                #print(src)\n",
    "                #print(dest)\n",
    "                move(src, dest)\n",
    "                i += 1\n",
    "                "
   ]
  },
  {
   "cell_type": "markdown",
   "metadata": {},
   "source": [
    "# Optional Eye Region Extraction\n",
    "Set EXTRACT_EYE_REGION to true to extract a region around the glasses in the augmented frames.  "
   ]
  },
  {
   "cell_type": "code",
   "execution_count": 4,
   "metadata": {
    "collapsed": true
   },
   "outputs": [],
   "source": [
    "# Helper Classes and Functions\n",
    "\n",
    "class MaskRegion:\n",
    "    \n",
    "    def __init__(self, rmin, rmax, cmin, cmax):\n",
    "        self.rmin = rmin\n",
    "        self.rmax = rmax\n",
    "        self.cmin = cmin\n",
    "        self.cmax = cmax\n",
    " \n",
    "# https://stackoverflow.com/questions/31400769/bounding-box-of-numpy-array\n",
    "def bbox(img):\n",
    "    img = (img > 0)\n",
    "    rows = np.any(img, axis=1)\n",
    "    cols = np.any(img, axis=0)\n",
    "    rmin, rmax = np.argmax(rows), img.shape[0] - 1 - np.argmax(np.flipud(rows))\n",
    "    cmin, cmax = np.argmax(cols), img.shape[1] - 1 - np.argmax(np.flipud(cols))\n",
    "    return rmin, rmax, cmin, cmax"
   ]
  },
  {
   "cell_type": "code",
   "execution_count": 5,
   "metadata": {},
   "outputs": [
    {
     "name": "stderr",
     "output_type": "stream",
     "text": [
      "/Users/aske/anaconda3/lib/python3.6/site-packages/ipykernel_launcher.py:53: DeprecationWarning: `imsave` is deprecated!\n",
      "`imsave` is deprecated in SciPy 1.0.0, and will be removed in 1.2.0.\n",
      "Use ``imageio.imwrite`` instead.\n"
     ]
    }
   ],
   "source": [
    "\n",
    "EXTRACT_EYE_REGION = True\n",
    "W_PAD = 10 # Width Padding\n",
    "H_PAD = 10 # Height Padding\n",
    "\n",
    "\n",
    "if(EXTRACT_EYE_REGION):\n",
    "\n",
    "    # CREATE EYE REGION BATCH FOLDER\n",
    "    result_dir_name = 'batch_eye_region'\n",
    "\n",
    "    if not os.path.exists(result_dir_name):\n",
    "        os.makedirs(result_dir_name)\n",
    "\n",
    "    image_folder = \"batch\"\n",
    "    subfolders = os.listdir(os.path.join(cwd,'batch'))\n",
    "\n",
    "    for sub in subfolders:\n",
    "        if(sub != '.DS_Store'):        \n",
    "            for subdir, dirs, files in os.walk(os.path.join(cwd, image_folder, sub)):\n",
    "                # Create Mask dict\n",
    "                mask_dict = {}\n",
    "                \n",
    "                dst = os.path.join(cwd, result_dir_name, sub)\n",
    "                if not os.path.exists(dst):\n",
    "                    os.makedirs(dst)\n",
    "                \n",
    "                for file in files:\n",
    "                    if(\"mask\" in file):\n",
    "                        # Read in image\n",
    "                        mask_image = imageio.imread(os.path.join(cwd, image_folder, sub, file))\n",
    "                        # Extract coordinates from bounding box\n",
    "                        rmin, rmax, cmin, cmax = bbox(mask_image[:, :, 1])\n",
    "                        mask_region = MaskRegion(rmin, rmax, cmin, cmax)\n",
    "                        elements = file.split(\"_\")\n",
    "                        mask_name = \"_\".join((elements[1], elements[3], elements[4], elements[5]))\n",
    "                        mask_dict[mask_name] = mask_region\n",
    "\n",
    "                # Use mask dict to extract eye region from images. \n",
    "                for file in files:\n",
    "                    if(\"mask\" in file):\n",
    "                        continue\n",
    "                    \n",
    "                    if(imghdr.what(os.path.join(subdir, file)) == 'png'):\n",
    "                        if('_' in file):\n",
    "                            elements = file.split(\"_\")\n",
    "                            mask_name = mask_name = \"_\".join((elements[1], elements[3], elements[4], elements[5]))\n",
    "                            # Read in image\n",
    "                            im = imageio.imread(os.path.join(cwd, image_folder, sub, file))\n",
    "                            # Extract eye region\n",
    "                            mr = mask_dict[mask_name]\n",
    "                            eye_region = im[mr.rmin-W_PAD:mr.rmax+W_PAD, mr.cmin-H_PAD:mr.cmax+H_PAD, :]\n",
    "                            scipy.misc.imsave(os.path.join(cwd, dst, file), eye_region)\n",
    "\n"
   ]
  },
  {
   "cell_type": "markdown",
   "metadata": {},
   "source": [
    "# Eye region extraction with dlib"
   ]
  },
  {
   "cell_type": "code",
   "execution_count": 39,
   "metadata": {
    "collapsed": true
   },
   "outputs": [],
   "source": [
    "import dlib\n",
    "import time"
   ]
  },
  {
   "cell_type": "code",
   "execution_count": 42,
   "metadata": {
    "collapsed": true
   },
   "outputs": [],
   "source": [
    "# Note: the predictor which is loaded, must be in same folder as the notebook\n",
    "PREDICTOR_FILENAME = 'shape_predictor_68_face_landmarks.dat'\n",
    "PAD_TOP = 10\n",
    "PAD_BOT = 10\n",
    "PAD_LEFT = 10\n",
    "PAD_RIGHT = 10\n",
    "\n",
    "# returns coordinates y0,y1,x0,x1 of the eye-region\n",
    "def get_eye_region(img):\n",
    "    \n",
    "    # Create detector and predictor\n",
    "    detector = dlib.get_frontal_face_detector()\n",
    "    predictor = dlib.shape_predictor(cwd + '/' + PREDICTOR_FILENAME)\n",
    "    \n",
    "    # detect faces\n",
    "    detections = detector(img)\n",
    "    \n",
    "    # no face detected, return same img\n",
    "    if list(detections) == []:\n",
    "        #print(\"NO FACE DETECTED\")\n",
    "        #plt.imshow(img)\n",
    "        #plt.show()\n",
    "        num_rows,num_cols,_ = img.shape\n",
    "        est_y0 = int(0.3*num_rows); est_y1 = int(0.7*num_rows)\n",
    "        est_x0 = int(0.125*num_cols); est_x1 = int(0.875*num_cols)\n",
    "        return est_y0,est_y1,est_x0,est_x1\n",
    "    \n",
    "    # only 1 face\n",
    "    for k,d in enumerate(detections):\n",
    "        face = img[d.top():d.bottom()+1, d.left():d.right()+1, :]\n",
    "        # Get the 68 landmarks\n",
    "        landmarks = predictor(img, d)\n",
    "        break\n",
    "    \n",
    "    # Calc positions\n",
    "    num_rows,num_cols,_ = img.shape\n",
    "\n",
    "    y_min = min( landmarks.part(19).y, landmarks.part(24).y )\n",
    "    y_max = landmarks.part(30).y\n",
    "    x_min = landmarks.part(0).x\n",
    "    x_max = landmarks.part(16).x\n",
    "\n",
    "    y0 = max(0,y_min-PAD_TOP)\n",
    "    y1 = min(num_rows,y_max+PAD_BOT)\n",
    "    x0 = max(0,x_min-PAD_LEFT)\n",
    "    x1 = min(num_cols,x_max+PAD_RIGHT)\n",
    "    \n",
    "    return y0,y1,x0,x1"
   ]
  },
  {
   "cell_type": "code",
   "execution_count": 43,
   "metadata": {},
   "outputs": [
    {
     "name": "stdout",
     "output_type": "stream",
     "text": [
      "done with folder: 210, in: 0m 26s\n",
      "done with folder: 48, in: 0m 23s\n",
      "done with folder: 161, in: 0m 23s\n",
      "done with folder: 112, in: 0m 23s\n",
      "done with folder: 78, in: 0m 23s\n"
     ]
    },
    {
     "ename": "KeyboardInterrupt",
     "evalue": "",
     "output_type": "error",
     "traceback": [
      "\u001b[0;31m---------------------------------------------------------------------------\u001b[0m",
      "\u001b[0;31mKeyboardInterrupt\u001b[0m                         Traceback (most recent call last)",
      "\u001b[0;32m<ipython-input-43-15b9dad8978a>\u001b[0m in \u001b[0;36m<module>\u001b[0;34m()\u001b[0m\n\u001b[1;32m     33\u001b[0m                         \u001b[0mface_image\u001b[0m \u001b[0;34m=\u001b[0m \u001b[0mimageio\u001b[0m\u001b[0;34m.\u001b[0m\u001b[0mimread\u001b[0m\u001b[0;34m(\u001b[0m\u001b[0mos\u001b[0m\u001b[0;34m.\u001b[0m\u001b[0mpath\u001b[0m\u001b[0;34m.\u001b[0m\u001b[0mjoin\u001b[0m\u001b[0;34m(\u001b[0m\u001b[0mcwd\u001b[0m\u001b[0;34m,\u001b[0m \u001b[0mimage_folder\u001b[0m\u001b[0;34m,\u001b[0m \u001b[0msub\u001b[0m\u001b[0;34m,\u001b[0m \u001b[0mfile\u001b[0m\u001b[0;34m)\u001b[0m\u001b[0;34m)\u001b[0m\u001b[0;34m[\u001b[0m\u001b[0;34m:\u001b[0m\u001b[0;34m,\u001b[0m\u001b[0;34m:\u001b[0m\u001b[0;34m,\u001b[0m\u001b[0;34m[\u001b[0m\u001b[0;36m0\u001b[0m\u001b[0;34m,\u001b[0m\u001b[0;36m1\u001b[0m\u001b[0;34m,\u001b[0m\u001b[0;36m2\u001b[0m\u001b[0;34m]\u001b[0m\u001b[0;34m]\u001b[0m\u001b[0;34m\u001b[0m\u001b[0m\n\u001b[1;32m     34\u001b[0m \u001b[0;34m\u001b[0m\u001b[0m\n\u001b[0;32m---> 35\u001b[0;31m                         \u001b[0meye_regions_dict\u001b[0m\u001b[0;34m[\u001b[0m\u001b[0;34m(\u001b[0m\u001b[0mframe_type\u001b[0m\u001b[0;34m,\u001b[0m\u001b[0mframe_p\u001b[0m\u001b[0;34m,\u001b[0m\u001b[0mframe_y\u001b[0m\u001b[0;34m,\u001b[0m\u001b[0mframe_r\u001b[0m\u001b[0;34m)\u001b[0m\u001b[0;34m]\u001b[0m \u001b[0;34m=\u001b[0m \u001b[0mget_eye_region\u001b[0m\u001b[0;34m(\u001b[0m\u001b[0mface_image\u001b[0m\u001b[0;34m)\u001b[0m\u001b[0;34m\u001b[0m\u001b[0m\n\u001b[0m\u001b[1;32m     36\u001b[0m \u001b[0;34m\u001b[0m\u001b[0m\n\u001b[1;32m     37\u001b[0m                 \u001b[0;31m#print(eye_regions_dict)\u001b[0m\u001b[0;34m\u001b[0m\u001b[0;34m\u001b[0m\u001b[0m\n",
      "\u001b[0;32m<ipython-input-42-41c316f2db1e>\u001b[0m in \u001b[0;36mget_eye_region\u001b[0;34m(img)\u001b[0m\n\u001b[1;32m     11\u001b[0m     \u001b[0;31m# Create detector and predictor\u001b[0m\u001b[0;34m\u001b[0m\u001b[0;34m\u001b[0m\u001b[0m\n\u001b[1;32m     12\u001b[0m     \u001b[0mdetector\u001b[0m \u001b[0;34m=\u001b[0m \u001b[0mdlib\u001b[0m\u001b[0;34m.\u001b[0m\u001b[0mget_frontal_face_detector\u001b[0m\u001b[0;34m(\u001b[0m\u001b[0;34m)\u001b[0m\u001b[0;34m\u001b[0m\u001b[0m\n\u001b[0;32m---> 13\u001b[0;31m     \u001b[0mpredictor\u001b[0m \u001b[0;34m=\u001b[0m \u001b[0mdlib\u001b[0m\u001b[0;34m.\u001b[0m\u001b[0mshape_predictor\u001b[0m\u001b[0;34m(\u001b[0m\u001b[0mcwd\u001b[0m \u001b[0;34m+\u001b[0m \u001b[0;34m'/'\u001b[0m \u001b[0;34m+\u001b[0m \u001b[0mPREDICTOR_FILENAME\u001b[0m\u001b[0;34m)\u001b[0m\u001b[0;34m\u001b[0m\u001b[0m\n\u001b[0m\u001b[1;32m     14\u001b[0m \u001b[0;34m\u001b[0m\u001b[0m\n\u001b[1;32m     15\u001b[0m     \u001b[0;31m# detect faces\u001b[0m\u001b[0;34m\u001b[0m\u001b[0;34m\u001b[0m\u001b[0m\n",
      "\u001b[0;31mKeyboardInterrupt\u001b[0m: "
     ]
    }
   ],
   "source": [
    "EXTRACT_EYE_REGION_DLIB = True\n",
    "\n",
    "if(EXTRACT_EYE_REGION_DLIB):\n",
    "\n",
    "    # CREATE EYE REGION BATCH FOLDER\n",
    "    result_dir_name = 'batch_eye_region'\n",
    "\n",
    "    if not os.path.exists(result_dir_name):\n",
    "        os.makedirs(result_dir_name)\n",
    "\n",
    "    image_folder = \"batch\"\n",
    "    subfolders = os.listdir(os.path.join(cwd,'batch'))\n",
    "\n",
    "    for sub in subfolders:\n",
    "        if(sub != '.DS_Store'):        \n",
    "            for subdir, dirs, files in os.walk(os.path.join(cwd, image_folder, sub)):\n",
    "                t0=time.time()\n",
    "                # Create \"eye-regions\" dict per fixed (frame,face-view) for current face\n",
    "                eye_regions_dict = {}\n",
    "                \n",
    "                dst = os.path.join(cwd, result_dir_name, sub)\n",
    "                if not os.path.exists(dst):\n",
    "                    os.makedirs(dst)\n",
    "                \n",
    "                # fill in eye-regions dict\n",
    "                # (by going through only imgs with: frame_color=obsidianblack)\n",
    "                # (so assumes of each face-view, all color of frames are generated)\n",
    "                for file in files:\n",
    "                    if(\"obsidianBlack\" in file): # i.e. default_Enzo_obsidianBlack_p-5_y0_r0.png\n",
    "                        _,frame_type,frame_color,frame_p,frame_y,frame_r = file[:-4].split('_')\n",
    "                        \n",
    "                        # Read in image\n",
    "                        face_image = imageio.imread(os.path.join(cwd, image_folder, sub, file))[:,:,[0,1,2]]\n",
    "                        \n",
    "                        eye_regions_dict[(frame_type,frame_p,frame_y,frame_r)] = get_eye_region(face_image)\n",
    "               \n",
    "                #print(eye_regions_dict)\n",
    "                \n",
    "                # Use dlib face landmark detection to extract eye region from images. \n",
    "                for file in files:\n",
    "                    if(\"mask\" in file):\n",
    "                        continue\n",
    "                    \n",
    "                    if (imghdr.what(os.path.join(subdir, file)) == 'png'):\n",
    "                        if ('_' in file):\n",
    "                            _,frame_type,frame_color,frame_p,frame_y,frame_r = file[:-4].split('_')\n",
    "                            \n",
    "                            # Read in image\n",
    "                            img_c3 = imageio.imread(os.path.join(cwd, image_folder, sub, file))[:,:,[0,1,2]]\n",
    "\n",
    "                            # Extract eye region with dlib\n",
    "                            y0,y1,x0,x1 = eye_regions_dict[(frame_type,frame_p,frame_y,frame_r)]\n",
    "                            eye_region = img_c3[y0:y1+1, x0:x1+1, :]\n",
    "\n",
    "                            # Write image\n",
    "                            imageio.imwrite(os.path.join(cwd, dst, file), eye_region)\n",
    "                t1 = time.time()\n",
    "                print(\"done with folder: \" + sub + \", in: {:.0f}m {:.0f}s\".format((t1-t0) // 60, (t1-t0) % 60))"
   ]
  },
  {
   "cell_type": "markdown",
   "metadata": {},
   "source": [
    "## Split, Clean and Preprocess"
   ]
  },
  {
   "cell_type": "code",
   "execution_count": 6,
   "metadata": {},
   "outputs": [
    {
     "name": "stdout",
     "output_type": "stream",
     "text": [
      "Splitting data into 0.8 training data and 0.2 validation data\n",
      "Dividing 200 image folders into 160 folders for training and 40 for testing\n"
     ]
    }
   ],
   "source": [
    "TEST_SPLIT = 0.2\n",
    "TRAIN_SPLIT = 1.0 - TEST_SPLIT\n",
    "\n",
    "# Helper function to divide folder list\n",
    "# From https://stackoverflow.com/questions/42471570/how-to-split-documents-into-training-set-and-test-set\n",
    "def get_training_and_testing_sets(file_list):\n",
    "    split = TRAIN_SPLIT\n",
    "    split_index = floor(len(file_list) * split)\n",
    "    training = file_list[:split_index]\n",
    "    testing = file_list[split_index:]\n",
    "    return training, testing\n",
    "\n",
    "print('Splitting data into {} training data and {} validation data'.format(TRAIN_SPLIT, TEST_SPLIT))\n",
    "\n",
    "frames = [\"HazzBerry\", \"GerretLight\", \"Enzo\", 'M14', 'M10']\n",
    "colors = ['obsidianBlack', 'glamourRed', 'goldPotato', 'tornadoBlue', 'lushGreen']\n",
    "\n",
    "result_dir_name = 'processed_data'\n",
    "train_dir = 'train'\n",
    "val_dir = 'val'\n",
    "image_folder = 'batch'\n",
    "\n",
    "if(EXTRACT_EYE_REGION):\n",
    "    image_folder = 'batch_eye_region'\n",
    "\n",
    "\n",
    "if not os.path.exists(result_dir_name):\n",
    "        os.makedirs(result_dir_name)\n",
    "        \n",
    "if not os.path.exists(os.path.join(result_dir_name, train_dir)):\n",
    "        os.makedirs(os.path.join(result_dir_name, train_dir))\n",
    "        \n",
    "if not os.path.exists(os.path.join(result_dir_name, val_dir)):\n",
    "        os.makedirs(os.path.join(result_dir_name, val_dir))\n",
    "\n",
    "for pair in itertools.product(frames, colors):\n",
    "    folder_name = '_'.join(pair)\n",
    "    dir_in_train = result_dir_name +'/' + train_dir + '/' + folder_name\n",
    "    dir_in_val = result_dir_name +'/' + val_dir + '/' + folder_name\n",
    "\n",
    "    if not os.path.exists(dir_in_train):\n",
    "        os.makedirs(dir_in_train)\n",
    "    \n",
    "    if not os.path.exists(dir_in_val):\n",
    "        os.makedirs(dir_in_val)\n",
    "    \n",
    "subfolders = os.listdir(os.path.join(cwd,'batch'))\n",
    "\n",
    "# Shuffle the list\n",
    "random.shuffle(subfolders)\n",
    "\n",
    "# Divide into train and test\n",
    "training, testing = get_training_and_testing_sets(subfolders)\n",
    "\n",
    "total = (len(subfolders))\n",
    "t_count = len(training)\n",
    "v_count = len(testing)\n",
    "\n",
    "print(\"Dividing {} image folders into {} folders for training and {} for testing\".format(total, t_count, v_count))\n",
    "      \n",
    "# Divide into train and test\n",
    "for sub in subfolders:\n",
    "    if(sub != '.DS_Store'):\n",
    "        if sub in training:\n",
    "            split_folder = train_dir\n",
    "        else:\n",
    "            split_folder = val_dir\n",
    "                \n",
    "        for subdir, dirs, files in os.walk(cwd+'/batch/' + sub):\n",
    "            \n",
    "            for file in files:\n",
    "                if(\"mask\" in file):\n",
    "                    continue\n",
    "                    \n",
    "                if(imghdr.what(os.path.join(subdir, file)) == 'png'):\n",
    "                    if('_' in file):\n",
    "                        file_elements = file.split(\"_\")\n",
    "                        folder = file_elements[1] + '_' + file_elements[2]\n",
    "                        source = os.path.join(cwd,image_folder, sub, file)\n",
    "                        dst = os.path.join(cwd, result_dir_name, split_folder, folder) + '/' +  sub + '_' + file\n",
    "                        copyfile(source, dst)"
   ]
  },
  {
   "cell_type": "code",
   "execution_count": null,
   "metadata": {
    "collapsed": true
   },
   "outputs": [],
   "source": []
  }
 ],
 "metadata": {
  "kernelspec": {
   "display_name": "Python 3",
   "language": "python",
   "name": "python3"
  },
  "language_info": {
   "codemirror_mode": {
    "name": "ipython",
    "version": 3
   },
   "file_extension": ".py",
   "mimetype": "text/x-python",
   "name": "python",
   "nbconvert_exporter": "python",
   "pygments_lexer": "ipython3",
   "version": "3.6.2"
  }
 },
 "nbformat": 4,
 "nbformat_minor": 2
}
