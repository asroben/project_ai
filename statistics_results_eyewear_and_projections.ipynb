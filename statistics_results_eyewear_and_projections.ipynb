{
 "cells": [
  {
   "cell_type": "code",
   "execution_count": 74,
   "metadata": {
    "collapsed": true
   },
   "outputs": [],
   "source": [
    "# Calculates performance of two models"
   ]
  },
  {
   "cell_type": "code",
   "execution_count": 75,
   "metadata": {
    "collapsed": true
   },
   "outputs": [],
   "source": [
    "import torch\n",
    "import torch.nn as nn\n",
    "import numpy as np\n",
    "import torchvision\n",
    "from torchvision import datasets, models, transforms\n",
    "import matplotlib.pyplot as plt\n",
    "import time\n",
    "import os\n"
   ]
  },
  {
   "cell_type": "code",
   "execution_count": 76,
   "metadata": {
    "collapsed": true
   },
   "outputs": [],
   "source": [
    "# name of dir where test data lies\n",
    "data_dir = 'augmented_data'\n",
    "filename_model1 = \"CLASSES_5_BATCHSIZE_10_EPOCHS_2_IMAGES_{'train': 2700, 'val': 660}\"\n",
    "filename_model2 = \"FT_CLASSES_5_BATCHSIZE_10_EPOCHS_2_IMAGES_{'train': 2700, 'val': 660}\""
   ]
  },
  {
   "cell_type": "code",
   "execution_count": 78,
   "metadata": {
    "collapsed": true
   },
   "outputs": [],
   "source": [
    "# Data loading\n",
    "\n",
    "BATCH_SIZE = 4\n",
    "\n",
    "data_transforms = {\n",
    "    'train': transforms.Compose([\n",
    "        transforms.RandomResizedCrop(224),\n",
    "        transforms.RandomHorizontalFlip(),\n",
    "        transforms.ToTensor(),\n",
    "        transforms.Normalize([0.485, 0.456, 0.406], [0.229, 0.224, 0.225])\n",
    "    ]),\n",
    "    'val': transforms.Compose([\n",
    "        transforms.Resize(256),\n",
    "        transforms.CenterCrop(224),\n",
    "        transforms.ToTensor(),\n",
    "        transforms.Normalize([0.485, 0.456, 0.406], [0.229, 0.224, 0.225])\n",
    "    ]),\n",
    "    'test': transforms.Compose([\n",
    "        transforms.Resize(256),\n",
    "        transforms.CenterCrop(224),\n",
    "        transforms.ToTensor(),\n",
    "        transforms.Normalize([0.485, 0.456, 0.406], [0.229, 0.224, 0.225])\n",
    "    ]),\n",
    "}\n",
    "\n",
    "image_datasets = {x: datasets.ImageFolder(os.path.join(data_dir, x),\n",
    "                                          data_transforms[x])\n",
    "                  for x in ['train', 'val', 'test']}\n",
    "dataloaders = {x: torch.utils.data.DataLoader(image_datasets[x], batch_size=BATCH_SIZE,\n",
    "                                             shuffle=True, num_workers=4)\n",
    "              for x in ['train', 'val', 'test']}\n",
    "dataset_sizes = {x: len(image_datasets[x]) for x in ['train', 'val', 'test']}\n",
    "class_names = image_datasets['train'].classes\n",
    "\n",
    "device = torch.device(\"cuda:0\" if torch.cuda.is_available() else \"cpu\")\n"
   ]
  },
  {
   "cell_type": "code",
   "execution_count": 79,
   "metadata": {},
   "outputs": [
    {
     "data": {
      "text/plain": [
       "['Enzo', 'GerretLight', 'HazzBerry', 'M10', 'M14']"
      ]
     },
     "execution_count": 79,
     "metadata": {},
     "output_type": "execute_result"
    }
   ],
   "source": [
    "class_names = image_datasets['test'].classes\n",
    "class_names"
   ]
  },
  {
   "cell_type": "code",
   "execution_count": null,
   "metadata": {
    "collapsed": true
   },
   "outputs": [],
   "source": []
  },
  {
   "cell_type": "code",
   "execution_count": 80,
   "metadata": {
    "collapsed": true
   },
   "outputs": [],
   "source": [
    "# Load trained models\n",
    "# 1: model, weights frozen\n",
    "# 2: model, weights not frozen\n",
    "\n",
    "#model_t1 = torch.load(\"FREEZEWEIGHTS_True_CLASSES_5_BATCHSIZE_10_EPOCHS_2_IMAGES_{'train': 2700, 'val': 660}\")\n",
    "#model_t2 = torch.load(\"FREEZEWEIGHTS_False_CLASSES_5_BATCHSIZE_10_EPOCHS_2_IMAGES_{'train': 2700, 'val': 660}\")\n",
    "\n",
    "model_t1 = torch.load(filename_model1)\n",
    "model_t2 = torch.load(filename_model2)"
   ]
  },
  {
   "cell_type": "code",
   "execution_count": 81,
   "metadata": {
    "collapsed": true
   },
   "outputs": [],
   "source": [
    "# Model without last fc layer\n",
    "model_v1 = torch.nn.Sequential(*list(model_t1.children())[:-1])\n",
    "model_v2 = torch.nn.Sequential(*list(model_t2.children())[:-1])"
   ]
  },
  {
   "cell_type": "code",
   "execution_count": 82,
   "metadata": {},
   "outputs": [
    {
     "name": "stdout",
     "output_type": "stream",
     "text": [
      "Time taken is: 1m 23s\n",
      "Time taken is: 1m 22s\n",
      "pred_matrix1:\n",
      "[[ 130.    1.    0.    1.    0.]\n",
      " [  44.   70.    5.   11.    2.]\n",
      " [   5.    0.  124.    3.    0.]\n",
      " [   5.    5.    1.  121.    0.]\n",
      " [   5.    0.    0.    0.  127.]]\n",
      "total_acc1: 0.866666666667\n",
      "pred_matrix2:\n",
      "[[ 132.    0.    0.    0.    0.]\n",
      " [   0.  132.    0.    0.    0.]\n",
      " [   0.    0.  132.    0.    0.]\n",
      " [   0.    0.    0.  132.    0.]\n",
      " [   0.    0.    0.    0.  132.]]\n",
      "total_acc2: 1.0\n"
     ]
    }
   ],
   "source": [
    "def get_pred_matrix(model_t):\n",
    "    # Remember pred counts of class per class\n",
    "    num_classes = len(image_datasets['test'].classes)\n",
    "    pred_matrix = np.zeros((num_classes,num_classes))\n",
    "\n",
    "# Example:\n",
    "# pred_matrix =\n",
    "#                       predicted\n",
    "#                   class_0  class_1\n",
    "# real    class_0    5         2\n",
    "#         class_1    0         4\n",
    "# (7 real class_0 imgs, 5 were predicted class 0, 2 were predicted class 1)\n",
    "# (4 real class_1 imgs, 0 were predicted class 0, 4 were predicted class 1)\n",
    "\n",
    "\n",
    "    t0 = time.time()\n",
    "    for inputs, labels in dataloaders['test']:\n",
    "        inputs = inputs.to(device)\n",
    "        labels = labels.to(device)\n",
    "\n",
    "        outputs = model_t(inputs)\n",
    "        _, preds = torch.max(outputs, 1)\n",
    "        #print(labels)\n",
    "        #print(preds)\n",
    "    \n",
    "        for b in range(0, inputs.shape[0]):\n",
    "            pred_matrix[labels[b]][preds[b]] = pred_matrix[labels[b]][preds[b]] + 1\n",
    "\n",
    "    t1 = time.time()\n",
    "    print('Time taken is: {:.0f}m {:.0f}s'.format((t1-t0) // 60, (t1-t0) % 60))\n",
    "\n",
    "    return pred_matrix\n",
    "\n",
    "pred_matrix1 = get_pred_matrix(model_t1)\n",
    "pred_matrix2 = get_pred_matrix(model_t2)\n",
    "print(\"pred_matrix1:\")\n",
    "print(pred_matrix1)\n",
    "total_acc1 = np.sum(np.diag(pred_matrix1)) / np.sum(pred_matrix1)\n",
    "print(\"total_acc1: \" + str(total_acc1))\n",
    "\n",
    "print(\"pred_matrix2:\")\n",
    "print(pred_matrix2)\n",
    "total_acc2 = np.sum(np.diag(pred_matrix2)) / np.sum(pred_matrix2)\n",
    "print(\"total_acc2: \" + str(total_acc2))"
   ]
  },
  {
   "cell_type": "code",
   "execution_count": null,
   "metadata": {
    "collapsed": true
   },
   "outputs": [],
   "source": []
  },
  {
   "cell_type": "code",
   "execution_count": 83,
   "metadata": {
    "collapsed": true
   },
   "outputs": [],
   "source": [
    "# For class i:\n",
    "# Precision_i = TP_i / (TP_i + FP_i)\n",
    "# Recall_i = TP_i / (TP_i + FN_i)"
   ]
  },
  {
   "cell_type": "code",
   "execution_count": 84,
   "metadata": {},
   "outputs": [],
   "source": [
    "def calc_scores(pred_matrix):\n",
    "    num_classes = pred_matrix.shape[0]\n",
    "    \n",
    "    # Precision/recall scores for each class\n",
    "    precision_scores = np.diag(pred_matrix) / np.sum(pred_matrix, axis=0)\n",
    "    recall_scores = np.diag(pred_matrix) / np.sum(pred_matrix, axis=1)\n",
    "    \n",
    "    # F1 scores for each class\n",
    "    F1_scores = np.zeros(num_classes)\n",
    "    for k in range(0,num_classes):\n",
    "        F1_scores[k] = 2 * precision_scores[k]*recall_scores[k] / (precision_scores[k] + recall_scores[k])\n",
    "\n",
    "    # Combined micro/macro F1 score\n",
    "    F1_score_micro = np.sum(np.diag(pred_matrix)) / np.sum(pred_matrix) # (= accuracy)\n",
    "    F1_score_macro = 1/num_classes * np.sum(F1_scores)\n",
    "    \n",
    "    return precision_scores,recall_scores,F1_scores,F1_score_micro,F1_score_macro"
   ]
  },
  {
   "cell_type": "code",
   "execution_count": 85,
   "metadata": {},
   "outputs": [
    {
     "name": "stdout",
     "output_type": "stream",
     "text": [
      "For model1:\n",
      "Precision scores for the classes are: [ 0.68783069  0.92105263  0.95384615  0.88970588  0.98449612]\n",
      "Recall scores for the classes are: [ 0.98484848  0.53030303  0.93939394  0.91666667  0.96212121]\n",
      "F1 scores for the classes are: [ 0.80996885  0.67307692  0.94656489  0.90298507  0.97318008]\n",
      "F1 score (micro) / accuracy is: 0.866666666667\n",
      "F1 score (macro) is: 0.861155161436\n"
     ]
    }
   ],
   "source": [
    "print(\"For model1:\")\n",
    "precision_scores1,recall_scores1,F1_scores1,F1_score_micro1,F1_score_macro1 = calc_scores(pred_matrix1)\n",
    "\n",
    "print(\"Precision scores for the classes are: \" + str(precision_scores1))\n",
    "print(\"Recall scores for the classes are: \" + str(recall_scores1))\n",
    "print(\"F1 scores for the classes are: \" + str(F1_scores1))\n",
    "\n",
    "print(\"F1 score (micro) / accuracy is: \" + str(F1_score_micro1))\n",
    "print(\"F1 score (macro) is: \" + str(F1_score_macro1))"
   ]
  },
  {
   "cell_type": "code",
   "execution_count": 86,
   "metadata": {},
   "outputs": [
    {
     "name": "stdout",
     "output_type": "stream",
     "text": [
      "For model2:\n",
      "Precision scores for the classes are: [ 1.  1.  1.  1.  1.]\n",
      "Recall scores for the classes are: [ 1.  1.  1.  1.  1.]\n",
      "F1 scores for the classes are: [ 1.  1.  1.  1.  1.]\n",
      "F1 score (micro) / accuracy is: 1.0\n",
      "F1 score (macro) is: 1.0\n"
     ]
    }
   ],
   "source": [
    "print(\"For model2:\")\n",
    "precision_scores2,recall_scores2,F1_scores2,F1_score_micro2,F1_score_macro2 = calc_scores(pred_matrix2)\n",
    "\n",
    "print(\"Precision scores for the classes are: \" + str(precision_scores2))\n",
    "print(\"Recall scores for the classes are: \" + str(recall_scores2))\n",
    "print(\"F1 scores for the classes are: \" + str(F1_scores2))\n",
    "\n",
    "print(\"F1 score (micro) / accuracy is: \" + str(F1_score_micro2))\n",
    "print(\"F1 score (macro) is: \" + str(F1_score_macro2))"
   ]
  },
  {
   "cell_type": "code",
   "execution_count": 87,
   "metadata": {},
   "outputs": [
    {
     "data": {
      "image/png": "[encoded data removed]",
      "text/plain": [
       "<matplotlib.figure.Figure at 0x7f4f28e84588>"
      ]
     },
     "metadata": {},
     "output_type": "display_data"
    },
    {
     "data": {
      "image/png": "[encoded data removed]",
      "text/plain": [
       "<matplotlib.figure.Figure at 0x7f4f28e845f8>"
      ]
     },
     "metadata": {},
     "output_type": "display_data"
    },
    {
     "data": {
      "image/png": "[encoded data removed]",
      "text/plain": [
       "<matplotlib.figure.Figure at 0x7f4f12baa8d0>"
      ]
     },
     "metadata": {},
     "output_type": "display_data"
    }
   ],
   "source": [
    "num_classes = pred_matrix1.shape[0]\n",
    "\n",
    "plt.xlabel(\"Class\")\n",
    "plt.ylabel(\"Precision\")\n",
    "plt.title(\"Precision per class\")\n",
    "plt.bar(np.arange(0,num_classes),precision_scores1)\n",
    "plt.show()\n",
    "\n",
    "plt.xlabel(\"Class\")\n",
    "plt.ylabel(\"Recall\")\n",
    "plt.title(\"Recall per class\")\n",
    "plt.bar(np.arange(0,num_classes),recall_scores1)\n",
    "plt.show()\n",
    "\n",
    "plt.xlabel(\"Class\")\n",
    "plt.ylabel(\"F1 score\")\n",
    "plt.title(\"F1 scores per class\")\n",
    "plt.bar(np.arange(0,num_classes),F1_scores1)\n",
    "plt.show()"
   ]
  },
  {
   "cell_type": "code",
   "execution_count": null,
   "metadata": {
    "collapsed": true
   },
   "outputs": [],
   "source": []
  },
  {
   "cell_type": "code",
   "execution_count": 88,
   "metadata": {
    "collapsed": true
   },
   "outputs": [],
   "source": [
    "from sklearn.manifold import TSNE"
   ]
  },
  {
   "cell_type": "code",
   "execution_count": 89,
   "metadata": {
    "collapsed": true
   },
   "outputs": [],
   "source": [
    "def get_feature_vectors_and_labels(model_v):\n",
    "    X = []  # Feature vectors\n",
    "    L = []  # Labels\n",
    "    for inputs, labels in dataloaders['test']:\n",
    "        inputs = inputs.to(device)\n",
    "        labels = labels.to(device)\n",
    "    \n",
    "        outputs = model_v(inputs).data.numpy()#np.array(model_v(inputs))\n",
    "    \n",
    "        for b in range(0, inputs.shape[0]):\n",
    "            X.append(np.array(outputs[b]).reshape(-1))\n",
    "            L.append(int(labels[b]))\n",
    "    \n",
    "    return X,L\n",
    "\n",
    "def calc_projections(model_v):\n",
    "    X,L = get_feature_vectors_and_labels(model_v)\n",
    "    \n",
    "    # Get (N-dim) features for each data point\n",
    "    X_embedded = TSNE(n_components=2,n_iter=1000).fit_transform(X)\n",
    "    #X_embedded = TSNE(n_components=2,n_iter=2000).fit_transform(X)\n",
    "    \n",
    "    return X,L,X_embedded"
   ]
  },
  {
   "cell_type": "code",
   "execution_count": 90,
   "metadata": {
    "collapsed": true
   },
   "outputs": [],
   "source": [
    "###############\n",
    "# Other projection methods"
   ]
  },
  {
   "cell_type": "code",
   "execution_count": 42,
   "metadata": {},
   "outputs": [
    {
     "data": {
      "text/plain": [
       "(660, 2)"
      ]
     },
     "execution_count": 42,
     "metadata": {},
     "output_type": "execute_result"
    }
   ],
   "source": [
    "# Get (N-dim) features for each data point\n",
    "X_embedded = TSNE(n_components=2,n_iter=2000).fit_transform(X)\n",
    "X_embedded.shape"
   ]
  },
  {
   "cell_type": "code",
   "execution_count": 19,
   "metadata": {},
   "outputs": [
    {
     "data": {
      "text/plain": [
       "(600, 2)"
      ]
     },
     "execution_count": 19,
     "metadata": {},
     "output_type": "execute_result"
    }
   ],
   "source": [
    "from sklearn import manifold\n",
    "X_embedded = manifold.LocallyLinearEmbedding().fit_transform(X)\n",
    "X_embedded.shape"
   ]
  },
  {
   "cell_type": "code",
   "execution_count": 28,
   "metadata": {},
   "outputs": [
    {
     "data": {
      "text/plain": [
       "(600, 2)"
      ]
     },
     "execution_count": 28,
     "metadata": {},
     "output_type": "execute_result"
    }
   ],
   "source": [
    "from sklearn import manifold\n",
    "X_embedded = manifold.Isomap().fit_transform(X)\n",
    "X_embedded.shape"
   ]
  },
  {
   "cell_type": "code",
   "execution_count": 30,
   "metadata": {},
   "outputs": [
    {
     "name": "stderr",
     "output_type": "stream",
     "text": [
      "/home/michael/anaconda3/envs/projai/lib/python3.6/site-packages/sklearn/metrics/pairwise.py:257: RuntimeWarning: invalid value encountered in sqrt\n",
      "  return distances if squared else np.sqrt(distances, out=distances)\n"
     ]
    },
    {
     "data": {
      "text/plain": [
       "(600, 2)"
      ]
     },
     "execution_count": 30,
     "metadata": {},
     "output_type": "execute_result"
    }
   ],
   "source": [
    "from sklearn import manifold\n",
    "X_embedded = manifold.MDS().fit_transform(X)\n",
    "X_embedded.shape"
   ]
  },
  {
   "cell_type": "code",
   "execution_count": 63,
   "metadata": {},
   "outputs": [],
   "source": [
    "###########"
   ]
  },
  {
   "cell_type": "code",
   "execution_count": 91,
   "metadata": {},
   "outputs": [
    {
     "name": "stdout",
     "output_type": "stream",
     "text": [
      "Time taken is: 1m 41s\n"
     ]
    }
   ],
   "source": [
    "t0 = time.time()\n",
    "X,L,X_embedded = calc_projections(model_v1)\n",
    "t1 = time.time()\n",
    "print('Time taken is: {:.0f}m {:.0f}s'.format((t1-t0) // 60, (t1-t0) % 60))"
   ]
  },
  {
   "cell_type": "code",
   "execution_count": 92,
   "metadata": {},
   "outputs": [
    {
     "data": {
      "image/png": "[encoded data removed]",
      "text/plain": [
       "<matplotlib.figure.Figure at 0x7f4f126427f0>"
      ]
     },
     "metadata": {},
     "output_type": "display_data"
    }
   ],
   "source": [
    "# Create scatter plot of X_embedded with color per label\n",
    "from matplotlib import pyplot as plt\n",
    "\n",
    "# dict\n",
    "X_c = {}\n",
    "num_classes = len(class_names)\n",
    "class_colors = ['red','blue','green','yellow','black']\n",
    "\n",
    "# initialize\n",
    "for k in range(0,num_classes):\n",
    "    X_c[k] = []\n",
    "\n",
    "# fill in\n",
    "for k in range(0,X_embedded.shape[0]):\n",
    "    X_c[L[k]].append(X_embedded[k])\n",
    "\n",
    "# plot\n",
    "for k in range(0,num_classes):\n",
    "    x_c,y_c = zip(*X_c[k])\n",
    "    plt.scatter(x_c,y_c,color=class_colors[k],label=\"class \"+class_names[k])\n",
    "\n",
    "plt.legend(loc=(1.04,0.5))\n",
    "plt.title(\"2-dim projections of feature vectors with tsne\")\n",
    "plt.show()"
   ]
  },
  {
   "cell_type": "code",
   "execution_count": 93,
   "metadata": {},
   "outputs": [
    {
     "name": "stdout",
     "output_type": "stream",
     "text": [
      "Time taken is: 1m 30s\n"
     ]
    }
   ],
   "source": [
    "t0 = time.time()\n",
    "X,L,X_embedded = calc_projections(model_v2)\n",
    "t1 = time.time()\n",
    "print('Time taken is: {:.0f}m {:.0f}s'.format((t1-t0) // 60, (t1-t0) % 60))"
   ]
  },
  {
   "cell_type": "code",
   "execution_count": 94,
   "metadata": {},
   "outputs": [
    {
     "data": {
      "image/png": "[encoded data removed]",
      "text/plain": [
       "<matplotlib.figure.Figure at 0x7f4f28f7f828>"
      ]
     },
     "metadata": {},
     "output_type": "display_data"
    }
   ],
   "source": [
    "# Create scatter plot of X_embedded with color per label\n",
    "from matplotlib import pyplot as plt\n",
    "\n",
    "# dict\n",
    "X_c = {}\n",
    "num_classes = len(class_names)\n",
    "class_colors = ['red','blue','green','yellow','black']\n",
    "\n",
    "# initialize\n",
    "for k in range(0,num_classes):\n",
    "    X_c[k] = []\n",
    "\n",
    "# fill in\n",
    "for k in range(0,X_embedded.shape[0]):\n",
    "    X_c[L[k]].append(X_embedded[k])\n",
    "\n",
    "# plot\n",
    "for k in range(0,num_classes):\n",
    "    x_c,y_c = zip(*X_c[k])\n",
    "    plt.scatter(x_c,y_c,color=class_colors[k],label=\"class \"+class_names[k])\n",
    "\n",
    "plt.legend(loc=(1.04,0.5))\n",
    "plt.title(\"2-dim projections of feature vectors with tsne\")\n",
    "plt.show()"
   ]
  },
  {
   "cell_type": "code",
   "execution_count": null,
   "metadata": {
    "collapsed": true
   },
   "outputs": [],
   "source": []
  },
  {
   "cell_type": "code",
   "execution_count": null,
   "metadata": {
    "collapsed": true
   },
   "outputs": [],
   "source": []
  },
  {
   "cell_type": "code",
   "execution_count": null,
   "metadata": {
    "collapsed": true
   },
   "outputs": [],
   "source": []
  }
 ],
 "metadata": {
  "kernelspec": {
   "display_name": "Python 3",
   "language": "python",
   "name": "python3"
  },
  "language_info": {
   "codemirror_mode": {
    "name": "ipython",
    "version": 3
   },
   "file_extension": ".py",
   "mimetype": "text/x-python",
   "name": "python",
   "nbconvert_exporter": "python",
   "pygments_lexer": "ipython3",
   "version": "3.6.2"
  }
 },
 "nbformat": 4,
 "nbformat_minor": 2
}
