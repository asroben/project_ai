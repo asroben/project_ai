{
 "cells": [
  {
   "cell_type": "markdown",
   "metadata": {},
   "source": [
    "# Preprocessing\n",
    "\n",
    "The clean and preprocess section will divide batch images into seperate class folders. \n",
    "\n",
    "The split section will divide those folders into train and validation sets. "
   ]
  },
  {
   "cell_type": "code",
   "execution_count": 26,
   "metadata": {
    "collapsed": true
   },
   "outputs": [],
   "source": [
    "import os\n",
    "import imghdr\n",
    "import itertools\n",
    "import numpy as np\n",
    "import imageio\n",
    "import scipy.misc\n",
    "import matplotlib.pyplot as plt\n",
    "from shutil import copyfile, move, copytree"
   ]
  },
  {
   "cell_type": "code",
   "execution_count": 27,
   "metadata": {},
   "outputs": [
    {
     "name": "stdout",
     "output_type": "stream",
     "text": [
      "/Users/aske/Desktop/Project_AI/project_ai\n"
     ]
    }
   ],
   "source": [
    "cwd = os.getcwd()\n",
    "print(cwd)"
   ]
  },
  {
   "cell_type": "markdown",
   "metadata": {},
   "source": [
    "# Batch Concatenation\n",
    "\n",
    "Uncomment and run below cell if augmented data has been received in multiple batches.   \n",
    "Add the unzipped batch folders into the \"Received_Batches\" folder, then run the cell below. "
   ]
  },
  {
   "cell_type": "code",
   "execution_count": 28,
   "metadata": {},
   "outputs": [
    {
     "name": "stdout",
     "output_type": "stream",
     "text": [
      "batch\n",
      "['batch_processed-2', '.DS_Store', 'batch_processed']\n"
     ]
    }
   ],
   "source": [
    "\n",
    "source_folder = 'Received_Batches'\n",
    "dst = 'batch'\n",
    "print(dst)\n",
    "\n",
    "\n",
    "if not os.path.exists(dst):\n",
    "    os.makedirs(dst)\n",
    "    \n",
    "\n",
    "subfolders = os.listdir(os.path.join(cwd, source_folder))\n",
    "print(subfolders)\n",
    "\n",
    "i = 0\n",
    "\n",
    "for sub in subfolders:\n",
    "    if(sub != '.DS_Store'):\n",
    "        #print(sub)\n",
    "        \n",
    "        subsubfolders = os.listdir(os.path.join(os.path.join(cwd, source_folder), sub))\n",
    "        \n",
    "        for subsub in subsubfolders:\n",
    "    \n",
    "            if(\"Store\" in subsub):\n",
    "                    continue\n",
    "                \n",
    "            if(sub != '.DS_Store'):\n",
    "                #print(subsub)\n",
    "                if(i < 10):\n",
    "                    foldername = \"0\" + str(i)\n",
    "                else:\n",
    "                    foldername = str(i)\n",
    "                src = cwd + \"/\" + source_folder + \"/\" + sub + \"/\" + subsub\n",
    "                dest = cwd + \"/\" + dst + \"/\" + foldername\n",
    "                #print(src)\n",
    "                #print(dest)\n",
    "                move(src, dest)\n",
    "                i += 1\n",
    "                \n",
    "\n",
    "# End up with a folder called batch with numbered subfolders\n",
    "\n",
    "# Do the option eye extraction after this and before splitting etc. "
   ]
  },
  {
   "cell_type": "markdown",
   "metadata": {},
   "source": [
    "# Optional Eye Region Extraction\n",
    "Set EXTRACT_EYE_REGION to true to extract a region around the glasses in the augmented frames.  "
   ]
  },
  {
   "cell_type": "code",
   "execution_count": 29,
   "metadata": {
    "collapsed": true
   },
   "outputs": [],
   "source": [
    "# Helper Classes and Functions\n",
    "\n",
    "class MaskRegion:\n",
    "    \n",
    "    def __init__(self, rmin, rmax, cmin, cmax):\n",
    "        self.rmin = rmin\n",
    "        self.rmax = rmax\n",
    "        self.cmin = cmin\n",
    "        self.cmax = cmax\n",
    " \n",
    "# https://stackoverflow.com/questions/31400769/bounding-box-of-numpy-array\n",
    "def bbox(img):\n",
    "    img = (img > 0)\n",
    "    rows = np.any(img, axis=1)\n",
    "    cols = np.any(img, axis=0)\n",
    "    rmin, rmax = np.argmax(rows), img.shape[0] - 1 - np.argmax(np.flipud(rows))\n",
    "    cmin, cmax = np.argmax(cols), img.shape[1] - 1 - np.argmax(np.flipud(cols))\n",
    "    return rmin, rmax, cmin, cmax"
   ]
  },
  {
   "cell_type": "code",
   "execution_count": 30,
   "metadata": {},
   "outputs": [],
   "source": [
    "\n",
    "EXTRACT_EYE_REGION = True\n",
    "W_PAD = 5 # Width Padding\n",
    "H_PAD = 5 # Height Padding\n",
    "\n",
    "\n",
    "if(EXTRACT_EYE_REGION):\n",
    "\n",
    "    # CREATE EYE REGION BATCH FOLDER\n",
    "    result_dir_name = 'batch_eye_region'\n",
    "\n",
    "    if not os.path.exists(result_dir_name):\n",
    "        os.makedirs(result_dir_name)\n",
    "\n",
    "    image_folder = \"batch\"\n",
    "    subfolders = os.listdir(os.path.join(cwd,'batch'))\n",
    "\n",
    "    for sub in subfolders:\n",
    "        if(value != '.DS_Store'):        \n",
    "            for subdir, dirs, files in os.walk(os.path.join(cwd, image_folder, sub)):\n",
    "                # Create Mask dict\n",
    "                mask_dict = {}\n",
    "                \n",
    "                dst = os.path.join(cwd, result_dir_name, sub)\n",
    "                if not os.path.exists(dst):\n",
    "                    os.makedirs(dst)\n",
    "                \n",
    "                for file in files:\n",
    "                    if(\"mask\" in file):\n",
    "                        # Read in image\n",
    "                        mask_image = imageio.imread(os.path.join(cwd, image_folder, sub, file))\n",
    "                        # Extract coordinates from bounding box\n",
    "                        rmin, rmax, cmin, cmax = bbox(mask_image[:, :, 1])\n",
    "                        mask_region = MaskRegion(rmin, rmax, cmin, cmax)\n",
    "                        file_elements = file.split(\"_\")\n",
    "                        mask_name = \"_\".join((file_elements[1], file_elements[3], file_elements[4], file_elements[5]))\n",
    "                        mask_dict[mask_name] = mask_region\n",
    "\n",
    "                # Use mask dict to extract eye region from images. \n",
    "                for file in files:\n",
    "                    if(\"mask\" in file):\n",
    "                        continue\n",
    "                    \n",
    "                    if(imghdr.what(os.path.join(subdir, file)) == 'png'):\n",
    "                        if('_' in file):\n",
    "                            file_elements = file.split(\"_\")\n",
    "                            mask_name = mask_name = \"_\".join((file_elements[1], file_elements[3], file_elements[4], file_elements[5]))\n",
    "                            # Read in image\n",
    "                            im = imageio.imread(os.path.join(cwd, image_folder, sub, file))\n",
    "                            # Extract eye region\n",
    "                            mr = mask_dict[mask_name]\n",
    "                            eye_region = im[mr.rmin-W_PAD:mr.rmax+W_PAD, mr.cmin-H_PAD:mr.cmax+H_PAD, :]\n",
    "                            scipy.misc.imsave(os.path.join(cwd, dst, file), eye_region)\n",
    "\n"
   ]
  },
  {
   "cell_type": "markdown",
   "metadata": {},
   "source": [
    "## Split, Clean and Preprocess"
   ]
  },
  {
   "cell_type": "code",
   "execution_count": 32,
   "metadata": {},
   "outputs": [
    {
     "name": "stdout",
     "output_type": "stream",
     "text": [
      "Splitting data into 0.8 training data and 0.2 validation data\n",
      "Total folders 47\n"
     ]
    }
   ],
   "source": [
    "TEST_SPLIT = 0.2\n",
    "TRAIN_SPLIT = 1.0 - TEST_SPLIT\n",
    "\n",
    "print('Splitting data into {} training data and {} validation data'.format(TRAIN_SPLIT, TEST_SPLIT))\n",
    "\n",
    "frames = [\"HazzBerry\", \"GerretLight\", \"Enzo\", 'M14', 'M10']\n",
    "#colors = ['obsidianBlack']\n",
    "colors = ['obsidianBlack', 'glamourRed', 'goldPotato', 'tornadoBlue', 'lushGreen']\n",
    "\n",
    "result_dir_name = 'processed_data'\n",
    "train_dir = 'train'\n",
    "val_dir = 'val'\n",
    "image_folder = 'batch'\n",
    "\n",
    "if(EXTRACT_EYE_REGION):\n",
    "    image_folder = 'batch_eye_region'\n",
    "\n",
    "\n",
    "if not os.path.exists(result_dir_name):\n",
    "        os.makedirs(result_dir_name)\n",
    "        \n",
    "if not os.path.exists(os.path.join(result_dir_name, train_dir)):\n",
    "        os.makedirs(os.path.join(result_dir_name, train_dir))\n",
    "        \n",
    "if not os.path.exists(os.path.join(result_dir_name, val_dir)):\n",
    "        os.makedirs(os.path.join(result_dir_name, val_dir))\n",
    "\n",
    "for pair in itertools.product(frames, colors):\n",
    "    folder_name = '_'.join(pair)\n",
    "    dir_in_train = result_dir_name +'/' + train_dir + '/' + folder_name\n",
    "    dir_in_val = result_dir_name +'/' + val_dir + '/' + folder_name\n",
    "\n",
    "    if not os.path.exists(dir_in_train):\n",
    "        os.makedirs(dir_in_train)\n",
    "    \n",
    "    if not os.path.exists(dir_in_val):\n",
    "        os.makedirs(dir_in_val)\n",
    "    \n",
    "subfolders = os.listdir(os.path.join(cwd,'batch'))\n",
    "\n",
    "print(\"Total folders \" + str(len(subfolders) - 1))\n",
    "\n",
    "\n",
    "# Divide into train and test\n",
    "\n",
    "\n",
    "for sub in subfolders:\n",
    "    if(sub != '.DS_Store'):\n",
    "        if np.random.rand(1) < TEST_SPLIT:\n",
    "            split_folder = val_dir\n",
    "        else:\n",
    "            split_folder = train_dir\n",
    "                \n",
    "        for subdir, dirs, files in os.walk(cwd+'/batch/' + sub):\n",
    "            \n",
    "            for file in files:\n",
    "                if(\"mask\" in file):\n",
    "                    continue\n",
    "                    \n",
    "                if(imghdr.what(os.path.join(subdir, file)) == 'png'):\n",
    "                    if('_' in file):\n",
    "                        file_elements = file.split(\"_\")\n",
    "                        folder = file_elements[1] + '_' + file_elements[2]\n",
    "                        source = os.path.join(cwd,image_folder, sub, file)\n",
    "                        dst = os.path.join(cwd, result_dir_name, split_folder, folder) + '/' +  sub + '_' + file\n",
    "                        copyfile(source, dst)\n",
    "                        "
   ]
  },
  {
   "cell_type": "code",
   "execution_count": null,
   "metadata": {
    "collapsed": true
   },
   "outputs": [],
   "source": []
  }
 ],
 "metadata": {
  "kernelspec": {
   "display_name": "Python 3",
   "language": "python",
   "name": "python3"
  },
  "language_info": {
   "codemirror_mode": {
    "name": "ipython",
    "version": 3
   },
   "file_extension": ".py",
   "mimetype": "text/x-python",
   "name": "python",
   "nbconvert_exporter": "python",
   "pygments_lexer": "ipython3",
   "version": "3.6.3"
  }
 },
 "nbformat": 4,
 "nbformat_minor": 2
}
