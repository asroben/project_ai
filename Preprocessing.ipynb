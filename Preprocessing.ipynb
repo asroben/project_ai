{
 "cells": [
  {
   "cell_type": "code",
   "execution_count": 14,
   "metadata": {},
   "outputs": [
    {
     "name": "stdout",
     "output_type": "stream",
     "text": [
      "Total folders 3\n",
      "Processing folder 0\n",
      "Processing folder 1\n",
      "Processing folder 2\n"
     ]
    }
   ],
   "source": [
    "import os\n",
    "import imghdr\n",
    "import itertools\n",
    "from shutil import copyfile\n",
    "\n",
    "# RUN THIS IN A FOLDER WITH THE BUNDLE FROM THE 3DU API\n",
    "\n",
    "cwd = os.getcwd()\n",
    "\n",
    "frames = [\"HazzBerry\", \"GerretLight\", \"Enzo\"]\n",
    "colors = ['obsidianBlack', 'glamourRed', 'goldPotato', 'tornadoBlue', 'lushGreen']\n",
    "\n",
    "result_dir_name = 'processed_data'\n",
    "\n",
    "if not os.path.exists(result_dir_name):\n",
    "        os.makedirs(result_dir_name)\n",
    "\n",
    "for pair in itertools.product(frames, colors):\n",
    "    folder_name = '_'.join(pair)\n",
    "    directry_name = result_dir_name +'/' + folder_name\n",
    "    if not os.path.exists(directry_name):\n",
    "        os.makedirs(directry_name)\n",
    "    \n",
    "subfolders = os.listdir(os.path.join(cwd,'batch'))\n",
    "\n",
    "print(\"Total folders \" + str(len(subfolders) - 1))\n",
    "\n",
    "for sub in subfolders:\n",
    "    if(sub != '.DS_Store'):\n",
    "        print(\"Processing folder \" + sub)\n",
    "        for subdir, dirs, files in os.walk(cwd+'/batch/' + sub):\n",
    "            \n",
    "            for file in files:\n",
    "                if(\"mask\" in file):\n",
    "                    continue\n",
    "                    \n",
    "                if(imghdr.what(os.path.join(subdir, file)) == 'png'):\n",
    "                    #print(file)\n",
    "                    if('_' in file):\n",
    "                        file_elements = file.split(\"_\")\n",
    "                        folder = file_elements[1] + '_' + file_elements[2]\n",
    "                        source = cwd+'/batch/' + sub + '/' + file\n",
    "                        dst = cwd + '/' + result_dir_name + '/' + folder + '/' +  sub + '_' + file\n",
    "                        copyfile(source, dst)\n"
   ]
  },
  {
   "cell_type": "code",
   "execution_count": null,
   "metadata": {
    "collapsed": true
   },
   "outputs": [],
   "source": []
  }
 ],
 "metadata": {
  "kernelspec": {
   "display_name": "Python 3",
   "language": "python",
   "name": "python3"
  },
  "language_info": {
   "codemirror_mode": {
    "name": "ipython",
    "version": 3
   },
   "file_extension": ".py",
   "mimetype": "text/x-python",
   "name": "python",
   "nbconvert_exporter": "python",
   "pygments_lexer": "ipython3",
   "version": "3.6.3"
  }
 },
 "nbformat": 4,
 "nbformat_minor": 2
}
