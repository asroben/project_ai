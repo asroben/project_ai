{
 "cells": [
  {
   "cell_type": "markdown",
   "metadata": {},
   "source": [
    "# Preprocessing\n",
    "\n",
    "The clean and preprocess section will divide batch images into seperate class folders. \n",
    "\n",
    "The split section will divide those folders into train and validation sets. "
   ]
  },
  {
   "cell_type": "code",
   "execution_count": 1,
   "metadata": {
    "collapsed": true
   },
   "outputs": [],
   "source": [
    "import os\n",
    "import imghdr\n",
    "import itertools\n",
    "import numpy as np\n",
    "from shutil import copyfile, move, copytree"
   ]
  },
  {
   "cell_type": "code",
   "execution_count": 2,
   "metadata": {},
   "outputs": [
    {
     "name": "stdout",
     "output_type": "stream",
     "text": [
      "/Users/aske/Desktop/Project_AI/project_ai\n"
     ]
    }
   ],
   "source": [
    "cwd = os.getcwd()\n",
    "print(cwd)"
   ]
  },
  {
   "cell_type": "markdown",
   "metadata": {},
   "source": [
    "# Batch Concatenation\n",
    "\n",
    "Uncomment and run below cell if augmented data has been received in multiple batches. "
   ]
  },
  {
   "cell_type": "code",
   "execution_count": 3,
   "metadata": {},
   "outputs": [
    {
     "name": "stdout",
     "output_type": "stream",
     "text": [
      "batch\n",
      "['batch_processed-3', 'batch_processed-4', 'batch_processed-5', 'batch_processed-2', '.DS_Store', 'batch_processed 3', 'batch_processed 2', 'batch_processed-6', 'batch_processed-2 2', 'batch_processed']\n"
     ]
    }
   ],
   "source": [
    "# Add the unzipped batch folders into the \"Received_Batches\" folder\n",
    "\n",
    "source_folder = 'Received_Batches'\n",
    "dst = 'batch'\n",
    "print(dst)\n",
    "\n",
    "\n",
    "if not os.path.exists(dst):\n",
    "    os.makedirs(dst)\n",
    "    \n",
    "\n",
    "subfolders = os.listdir(os.path.join(cwd, source_folder))\n",
    "print(subfolders)\n",
    "\n",
    "i = 0\n",
    "\n",
    "for sub in subfolders:\n",
    "    if(sub != '.DS_Store'):\n",
    "        #print(sub)\n",
    "        \n",
    "        subsubfolders = os.listdir(os.path.join(os.path.join(cwd, source_folder), sub))\n",
    "        \n",
    "        for subsub in subsubfolders:\n",
    "    \n",
    "            if(\"Store\" in subsub):\n",
    "                    continue\n",
    "                \n",
    "            if(sub != '.DS_Store'):\n",
    "                #print(subsub)\n",
    "                if(i < 10):\n",
    "                    foldername = \"0\" + str(i)\n",
    "                else:\n",
    "                    foldername = str(i)\n",
    "                src = cwd + \"/\" + source_folder + \"/\" + sub + \"/\" + subsub\n",
    "                dest = cwd + \"/\" + dst + \"/\" + foldername\n",
    "                #print(src)\n",
    "                #print(dest)\n",
    "                move(src, dest)\n",
    "                i += 1\n",
    "                \n",
    "\n",
    "    # End up with a folder called batch with numbered subfolders"
   ]
  },
  {
   "cell_type": "code",
   "execution_count": null,
   "metadata": {
    "collapsed": true
   },
   "outputs": [],
   "source": []
  },
  {
   "cell_type": "markdown",
   "metadata": {},
   "source": [
    "## Clean and Preprocess"
   ]
  },
  {
   "cell_type": "code",
   "execution_count": 4,
   "metadata": {},
   "outputs": [
    {
     "name": "stdout",
     "output_type": "stream",
     "text": [
      "Total folders 199\n",
      "Processing folder 135\n",
      "Processing folder 61\n",
      "Processing folder 95\n",
      "Processing folder 132\n",
      "Processing folder 59\n",
      "Processing folder 92\n",
      "Processing folder 66\n",
      "Processing folder 104\n",
      "Processing folder 50\n",
      "Processing folder 68\n",
      "Processing folder 103\n",
      "Processing folder 57\n",
      "Processing folder 03\n",
      "Processing folder 168\n",
      "Processing folder 157\n",
      "Processing folder 04\n",
      "Processing folder 150\n",
      "Processing folder 159\n",
      "Processing folder 32\n",
      "Processing folder 166\n",
      "Processing folder 192\n",
      "Processing folder 35\n",
      "Processing folder 195\n",
      "Processing folder 161\n",
      "Processing folder 102\n",
      "Processing folder 69\n",
      "Processing folder 56\n",
      "Processing folder 105\n",
      "Processing folder 51\n",
      "Processing folder 58\n",
      "Processing folder 133\n",
      "Processing folder 67\n",
      "Processing folder 93\n",
      "Processing folder 134\n",
      "Processing folder 94\n",
      "Processing folder 60\n",
      "Processing folder 34\n",
      "Processing folder 160\n",
      "Processing folder 194\n",
      "Processing folder 33\n",
      "Processing folder 158\n",
      "Processing folder 193\n",
      "Processing folder 167\n",
      "Processing folder 05\n",
      "Processing folder 151\n",
      "Processing folder 169\n",
      "Processing folder 02\n",
      "Processing folder 156\n",
      "Processing folder 174\n",
      "Processing folder 180\n",
      "Processing folder 20\n",
      "Processing folder 187\n",
      "Processing folder 18\n",
      "Processing folder 173\n",
      "Processing folder 27\n",
      "Processing folder 145\n",
      "Processing folder 11\n",
      "Processing folder 142\n",
      "Processing folder 29\n",
      "Processing folder 16\n",
      "Processing folder 189\n",
      "Processing folder 129\n",
      "Processing folder 42\n",
      "Processing folder 89\n",
      "Processing folder 116\n",
      "Processing folder 45\n",
      "Processing folder 111\n",
      "Processing folder 73\n",
      "Processing folder 118\n",
      "Processing folder 87\n",
      "Processing folder 127\n",
      "Processing folder 80\n",
      "Processing folder 74\n",
      "Processing folder 120\n",
      "Processing folder 28\n",
      "Processing folder 143\n",
      "Processing folder 17\n",
      "Processing folder 188\n",
      "Processing folder 144\n",
      "Processing folder 10\n",
      "Processing folder 172\n",
      "Processing folder 186\n",
      "Processing folder 19\n",
      "Processing folder 26\n",
      "Processing folder 181\n",
      "Processing folder 175\n",
      "Processing folder 21\n",
      "Processing folder 75\n",
      "Processing folder 81\n",
      "Processing folder 121\n",
      "Processing folder 119\n",
      "Processing folder 86\n",
      "Processing folder 72\n",
      "Processing folder 126\n",
      "Processing folder 44\n",
      "Processing folder 110\n",
      "Processing folder 43\n",
      "Processing folder 128\n",
      "Processing folder 88\n",
      "Processing folder 117\n",
      "Processing folder 198\n",
      "Processing folder 07\n",
      "Processing folder 153\n",
      "Processing folder 38\n",
      "Processing folder 00\n",
      "Processing folder 154\n",
      "Processing folder 36\n",
      "Processing folder 09\n",
      "Processing folder 196\n",
      "Processing folder 162\n",
      "Processing folder 31\n",
      "Processing folder 165\n",
      "Processing folder 191\n",
      "Processing folder 131\n",
      "Processing folder 91\n",
      "Processing folder 65\n",
      "Processing folder 136\n",
      "Processing folder 62\n",
      "Processing folder 96\n",
      "Processing folder 109\n",
      "Processing folder 100\n",
      "Processing folder 54\n",
      "Processing folder 107\n",
      "Processing folder 98\n",
      "Processing folder 138\n",
      "Processing folder 53\n",
      "Processing folder 30\n",
      "Processing folder 190\n",
      "Processing folder 164\n",
      "Processing folder 37\n",
      "Processing folder 163\n",
      "Processing folder 08\n",
      "Processing folder 197\n",
      "Processing folder 01\n",
      "Processing folder 155\n",
      "Processing folder 199\n",
      "Processing folder 06\n",
      "Processing folder 39\n",
      "Processing folder 152\n",
      "Processing folder 106\n",
      "Processing folder 99\n",
      "Processing folder 52\n",
      "Processing folder 139\n",
      "Processing folder 101\n",
      "Processing folder 55\n",
      "Processing folder 137\n",
      "Processing folder 97\n",
      "Processing folder 108\n",
      "Processing folder 63\n",
      "Processing folder 130\n",
      "Processing folder 64\n",
      "Processing folder 90\n",
      "Processing folder 46\n",
      "Processing folder 79\n",
      "Processing folder 112\n",
      "Processing folder 41\n",
      "Processing folder 115\n",
      "Processing folder 83\n",
      "Processing folder 77\n",
      "Processing folder 123\n",
      "Processing folder 48\n",
      "Processing folder 70\n",
      "Processing folder 84\n",
      "Processing folder 124\n",
      "Processing folder 184\n",
      "Processing folder 170\n",
      "Processing folder 24\n",
      "Processing folder 177\n",
      "Processing folder 183\n",
      "Processing folder 148\n",
      "Processing folder 23\n",
      "Processing folder 141\n",
      "Processing folder 15\n",
      "Processing folder 146\n",
      "Processing folder 12\n",
      "Processing folder 179\n",
      "Processing folder 85\n",
      "Processing folder 71\n",
      "Processing folder 125\n",
      "Processing folder 76\n",
      "Processing folder 82\n",
      "Processing folder 49\n",
      "Processing folder 122\n",
      "Processing folder 40\n",
      "Processing folder 114\n",
      "Processing folder 47\n",
      "Processing folder 113\n",
      "Processing folder 78\n",
      "Processing folder 147\n",
      "Processing folder 178\n",
      "Processing folder 13\n",
      "Processing folder 140\n",
      "Processing folder 14\n",
      "Processing folder 182\n",
      "Processing folder 176\n",
      "Processing folder 22\n",
      "Processing folder 149\n",
      "Processing folder 171\n",
      "Processing folder 185\n",
      "Processing folder 25\n"
     ]
    }
   ],
   "source": [
    "# RUN THIS IN A FOLDER WITH THE BUNDLE FROM THE 3DU API\n",
    "\n",
    "frames = [\"HazzBerry\", \"GerretLight\", \"Enzo\", 'M14', 'M10']\n",
    "colors = ['obsidianBlack']\n",
    "#colors = ['obsidianBlack', 'glamourRed', 'goldPotato', 'tornadoBlue', 'lushGreen']\n",
    "\n",
    "result_dir_name = 'processed_data'\n",
    "\n",
    "if not os.path.exists(result_dir_name):\n",
    "        os.makedirs(result_dir_name)\n",
    "\n",
    "for pair in itertools.product(frames, colors):\n",
    "    folder_name = '_'.join(pair)\n",
    "    directry_name = result_dir_name +'/' + folder_name\n",
    "    if not os.path.exists(directry_name):\n",
    "        os.makedirs(directry_name)\n",
    "    \n",
    "subfolders = os.listdir(os.path.join(cwd,'batch'))\n",
    "\n",
    "print(\"Total folders \" + str(len(subfolders) - 1))\n",
    "\n",
    "for sub in subfolders:\n",
    "    if(sub != '.DS_Store'):\n",
    "        print(\"Processing folder \" + sub)\n",
    "        for subdir, dirs, files in os.walk(cwd+'/batch/' + sub):\n",
    "            \n",
    "            for file in files:\n",
    "                if(\"mask\" in file):\n",
    "                    continue\n",
    "                    \n",
    "                if(imghdr.what(os.path.join(subdir, file)) == 'png'):\n",
    "                    #print(file)\n",
    "                    if('_' in file):\n",
    "                        file_elements = file.split(\"_\")\n",
    "                        folder = file_elements[1] + '_' + file_elements[2]\n",
    "                        source = cwd+'/batch/' + sub + '/' + file\n",
    "                        dst = cwd + '/' + result_dir_name + '/' + folder + '/' +  sub + '_' + file\n",
    "                        copyfile(source, dst)\n"
   ]
  },
  {
   "cell_type": "markdown",
   "metadata": {
    "collapsed": true
   },
   "source": [
    "## Split section"
   ]
  },
  {
   "cell_type": "code",
   "execution_count": null,
   "metadata": {
    "collapsed": true
   },
   "outputs": [],
   "source": []
  },
  {
   "cell_type": "code",
   "execution_count": 5,
   "metadata": {
    "collapsed": true
   },
   "outputs": [],
   "source": [
    "frames = ['HazzBerry', 'GerretLight', 'Enzo', 'M14', 'M10']\n",
    "# Available Frames: ['HazzBerry', 'GerretLight', 'Enzo', 'M14', 'M10']\n",
    "\n",
    "colors = ['obsidianBlack']\n",
    "# Available Colors: ['obsidianBlack', 'glamourRed', 'goldPotato', 'tornadoBlue', 'lushGreen']"
   ]
  },
  {
   "cell_type": "code",
   "execution_count": 6,
   "metadata": {
    "collapsed": true
   },
   "outputs": [],
   "source": [
    "# make directories\n",
    "out_dir = 'augmented_data'\n",
    "os.makedirs(out_dir)\n",
    "os.makedirs(out_dir + '/train')\n",
    "os.makedirs(out_dir + '/val')"
   ]
  },
  {
   "cell_type": "code",
   "execution_count": 7,
   "metadata": {
    "collapsed": true
   },
   "outputs": [],
   "source": [
    "num_imgs = 600 # ADJUST THIS EVERY TIME\n",
    "perc_train = 0.8\n",
    "perc_val = 0.2\n",
    "\n",
    "num_train = int(0.8*num_imgs)\n",
    "num_val = num_imgs - num_train"
   ]
  },
  {
   "cell_type": "code",
   "execution_count": 8,
   "metadata": {},
   "outputs": [
    {
     "data": {
      "text/plain": [
       "480"
      ]
     },
     "execution_count": 8,
     "metadata": {},
     "output_type": "execute_result"
    }
   ],
   "source": [
    "num_train"
   ]
  },
  {
   "cell_type": "code",
   "execution_count": 9,
   "metadata": {
    "collapsed": true
   },
   "outputs": [],
   "source": [
    "# divide pics to train/val\n",
    "for frame in frames:\n",
    "    for color in colors:\n",
    "        src_dir_name = 'processed_data'\n",
    "        class_dir = frame + '_' + color\n",
    "\n",
    "        # select train/val imgs of cur class\n",
    "        all_imgs = os.listdir(src_dir_name + '/' + class_dir)\n",
    "        all_imgs = np.random.permutation(all_imgs)\n",
    "        to_train = all_imgs[0:num_train]\n",
    "        to_val = all_imgs[num_train:]\n",
    "\n",
    "        # copy the imgs to directories\n",
    "        os.makedirs(out_dir + '/train' + '/' + class_dir)\n",
    "        os.makedirs(out_dir + '/val' + '/' + class_dir)\n",
    "\n",
    "        # train\n",
    "        for k in range(0, num_train):\n",
    "            src = cwd + '/' + src_dir_name + '/' + class_dir + '/' + to_train[k]\n",
    "            dst = cwd + '/' + out_dir + '/train' + '/' + class_dir + '/' + to_train[k]\n",
    "            copyfile(src, dst)\n",
    "\n",
    "        # val\n",
    "        for k in range(0, num_val):\n",
    "            src = cwd + '/' + src_dir_name + '/' + class_dir + '/' + to_val[k]\n",
    "            dst = cwd + '/' + out_dir + '/val' + '/' + class_dir + '/' + to_val[k]\n",
    "            copyfile(src, dst)"
   ]
  },
  {
   "cell_type": "code",
   "execution_count": null,
   "metadata": {
    "collapsed": true
   },
   "outputs": [],
   "source": []
  }
 ],
 "metadata": {
  "kernelspec": {
   "display_name": "Python 3",
   "language": "python",
   "name": "python3"
  },
  "language_info": {
   "codemirror_mode": {
    "name": "ipython",
    "version": 3
   },
   "file_extension": ".py",
   "mimetype": "text/x-python",
   "name": "python",
   "nbconvert_exporter": "python",
   "pygments_lexer": "ipython3",
   "version": "3.6.3"
  }
 },
 "nbformat": 4,
 "nbformat_minor": 2
}
