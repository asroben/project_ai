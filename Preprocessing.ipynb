{
 "cells": [
  {
   "cell_type": "markdown",
   "metadata": {},
   "source": [
    "# Preprocessing\n",
    "\n",
    "The clean and preprocess section will divide batch images into seperate class folders. \n",
    "\n",
    "The split section will divide those folders into train and validation sets. "
   ]
  },
  {
   "cell_type": "code",
   "execution_count": 13,
   "metadata": {
    "collapsed": true
   },
   "outputs": [],
   "source": [
    "import os\n",
    "import imghdr\n",
    "import itertools\n",
    "import numpy as np\n",
    "from shutil import copyfile, move, copytree"
   ]
  },
  {
   "cell_type": "code",
   "execution_count": 2,
   "metadata": {},
   "outputs": [
    {
     "name": "stdout",
     "output_type": "stream",
     "text": [
      "/Users/aske/Desktop/Project_AI/project_ai\n"
     ]
    }
   ],
   "source": [
    "cwd = os.getcwd()\n",
    "print(cwd)"
   ]
  },
  {
   "cell_type": "markdown",
   "metadata": {},
   "source": [
    "# Batch Concatenation\n",
    "\n",
    "Uncomment and run below cell if augmented data has been received in multiple batches. "
   ]
  },
  {
   "cell_type": "code",
   "execution_count": 19,
   "metadata": {},
   "outputs": [
    {
     "name": "stdout",
     "output_type": "stream",
     "text": [
      "batch\n",
      "['batch_processed-2', '.DS_Store', 'batch_processed 2', 'batch_processed']\n",
      "/Users/aske/Desktop/Project_AI/project_ai/Received_Batches/batch_processed-2/20\n",
      "/Users/aske/Desktop/Project_AI/project_ai/batch/00\n",
      "/Users/aske/Desktop/Project_AI/project_ai/Received_Batches/batch_processed-2/18\n",
      "/Users/aske/Desktop/Project_AI/project_ai/batch/01\n",
      "/Users/aske/Desktop/Project_AI/project_ai/Received_Batches/batch_processed-2/9\n",
      "/Users/aske/Desktop/Project_AI/project_ai/batch/02\n",
      "/Users/aske/Desktop/Project_AI/project_ai/Received_Batches/batch_processed-2/0\n",
      "/Users/aske/Desktop/Project_AI/project_ai/batch/03\n",
      "/Users/aske/Desktop/Project_AI/project_ai/Received_Batches/batch_processed-2/11\n",
      "/Users/aske/Desktop/Project_AI/project_ai/batch/04\n",
      "/Users/aske/Desktop/Project_AI/project_ai/Received_Batches/batch_processed-2/7\n",
      "/Users/aske/Desktop/Project_AI/project_ai/batch/05\n",
      "/Users/aske/Desktop/Project_AI/project_ai/Received_Batches/batch_processed-2/16\n",
      "/Users/aske/Desktop/Project_AI/project_ai/batch/06\n",
      "/Users/aske/Desktop/Project_AI/project_ai/Received_Batches/batch_processed-2/6\n",
      "/Users/aske/Desktop/Project_AI/project_ai/batch/07\n",
      "/Users/aske/Desktop/Project_AI/project_ai/Received_Batches/batch_processed-2/17\n",
      "/Users/aske/Desktop/Project_AI/project_ai/batch/08\n",
      "/Users/aske/Desktop/Project_AI/project_ai/Received_Batches/batch_processed-2/1\n",
      "/Users/aske/Desktop/Project_AI/project_ai/batch/09\n",
      "/Users/aske/Desktop/Project_AI/project_ai/Received_Batches/batch_processed-2/10\n",
      "/Users/aske/Desktop/Project_AI/project_ai/batch/10\n",
      "/Users/aske/Desktop/Project_AI/project_ai/Received_Batches/batch_processed-2/19\n",
      "/Users/aske/Desktop/Project_AI/project_ai/batch/11\n",
      "/Users/aske/Desktop/Project_AI/project_ai/Received_Batches/batch_processed-2/8\n",
      "/Users/aske/Desktop/Project_AI/project_ai/batch/12\n",
      "/Users/aske/Desktop/Project_AI/project_ai/Received_Batches/batch_processed-2/21\n",
      "/Users/aske/Desktop/Project_AI/project_ai/batch/13\n",
      "/Users/aske/Desktop/Project_AI/project_ai/Received_Batches/batch_processed-2/23\n",
      "/Users/aske/Desktop/Project_AI/project_ai/batch/14\n",
      "/Users/aske/Desktop/Project_AI/project_ai/Received_Batches/batch_processed-2/4\n",
      "/Users/aske/Desktop/Project_AI/project_ai/batch/15\n",
      "/Users/aske/Desktop/Project_AI/project_ai/Received_Batches/batch_processed-2/15\n",
      "/Users/aske/Desktop/Project_AI/project_ai/batch/16\n",
      "/Users/aske/Desktop/Project_AI/project_ai/Received_Batches/batch_processed-2/3\n",
      "/Users/aske/Desktop/Project_AI/project_ai/batch/17\n",
      "/Users/aske/Desktop/Project_AI/project_ai/Received_Batches/batch_processed-2/12\n",
      "/Users/aske/Desktop/Project_AI/project_ai/batch/18\n",
      "/Users/aske/Desktop/Project_AI/project_ai/Received_Batches/batch_processed-2/2\n",
      "/Users/aske/Desktop/Project_AI/project_ai/batch/19\n",
      "/Users/aske/Desktop/Project_AI/project_ai/Received_Batches/batch_processed-2/13\n",
      "/Users/aske/Desktop/Project_AI/project_ai/batch/20\n",
      "/Users/aske/Desktop/Project_AI/project_ai/Received_Batches/batch_processed-2/5\n",
      "/Users/aske/Desktop/Project_AI/project_ai/batch/21\n",
      "/Users/aske/Desktop/Project_AI/project_ai/Received_Batches/batch_processed-2/14\n",
      "/Users/aske/Desktop/Project_AI/project_ai/batch/22\n",
      "/Users/aske/Desktop/Project_AI/project_ai/Received_Batches/batch_processed-2/22\n",
      "/Users/aske/Desktop/Project_AI/project_ai/batch/23\n",
      "/Users/aske/Desktop/Project_AI/project_ai/Received_Batches/batch_processed 2/20\n",
      "/Users/aske/Desktop/Project_AI/project_ai/batch/24\n",
      "/Users/aske/Desktop/Project_AI/project_ai/Received_Batches/batch_processed 2/18\n",
      "/Users/aske/Desktop/Project_AI/project_ai/batch/25\n",
      "/Users/aske/Desktop/Project_AI/project_ai/Received_Batches/batch_processed 2/9\n",
      "/Users/aske/Desktop/Project_AI/project_ai/batch/26\n",
      "/Users/aske/Desktop/Project_AI/project_ai/Received_Batches/batch_processed 2/0\n",
      "/Users/aske/Desktop/Project_AI/project_ai/batch/27\n",
      "/Users/aske/Desktop/Project_AI/project_ai/Received_Batches/batch_processed 2/11\n",
      "/Users/aske/Desktop/Project_AI/project_ai/batch/28\n",
      "/Users/aske/Desktop/Project_AI/project_ai/Received_Batches/batch_processed 2/7\n",
      "/Users/aske/Desktop/Project_AI/project_ai/batch/29\n",
      "/Users/aske/Desktop/Project_AI/project_ai/Received_Batches/batch_processed 2/16\n",
      "/Users/aske/Desktop/Project_AI/project_ai/batch/30\n",
      "/Users/aske/Desktop/Project_AI/project_ai/Received_Batches/batch_processed 2/6\n",
      "/Users/aske/Desktop/Project_AI/project_ai/batch/31\n",
      "/Users/aske/Desktop/Project_AI/project_ai/Received_Batches/batch_processed 2/17\n",
      "/Users/aske/Desktop/Project_AI/project_ai/batch/32\n",
      "/Users/aske/Desktop/Project_AI/project_ai/Received_Batches/batch_processed 2/1\n",
      "/Users/aske/Desktop/Project_AI/project_ai/batch/33\n",
      "/Users/aske/Desktop/Project_AI/project_ai/Received_Batches/batch_processed 2/10\n",
      "/Users/aske/Desktop/Project_AI/project_ai/batch/34\n",
      "/Users/aske/Desktop/Project_AI/project_ai/Received_Batches/batch_processed 2/19\n",
      "/Users/aske/Desktop/Project_AI/project_ai/batch/35\n",
      "/Users/aske/Desktop/Project_AI/project_ai/Received_Batches/batch_processed 2/8\n",
      "/Users/aske/Desktop/Project_AI/project_ai/batch/36\n",
      "/Users/aske/Desktop/Project_AI/project_ai/Received_Batches/batch_processed 2/21\n",
      "/Users/aske/Desktop/Project_AI/project_ai/batch/37\n",
      "/Users/aske/Desktop/Project_AI/project_ai/Received_Batches/batch_processed 2/23\n",
      "/Users/aske/Desktop/Project_AI/project_ai/batch/38\n",
      "/Users/aske/Desktop/Project_AI/project_ai/Received_Batches/batch_processed 2/4\n",
      "/Users/aske/Desktop/Project_AI/project_ai/batch/39\n",
      "/Users/aske/Desktop/Project_AI/project_ai/Received_Batches/batch_processed 2/15\n",
      "/Users/aske/Desktop/Project_AI/project_ai/batch/40\n",
      "/Users/aske/Desktop/Project_AI/project_ai/Received_Batches/batch_processed 2/3\n",
      "/Users/aske/Desktop/Project_AI/project_ai/batch/41\n",
      "/Users/aske/Desktop/Project_AI/project_ai/Received_Batches/batch_processed 2/12\n",
      "/Users/aske/Desktop/Project_AI/project_ai/batch/42\n",
      "/Users/aske/Desktop/Project_AI/project_ai/Received_Batches/batch_processed 2/2\n",
      "/Users/aske/Desktop/Project_AI/project_ai/batch/43\n",
      "/Users/aske/Desktop/Project_AI/project_ai/Received_Batches/batch_processed 2/13\n",
      "/Users/aske/Desktop/Project_AI/project_ai/batch/44\n",
      "/Users/aske/Desktop/Project_AI/project_ai/Received_Batches/batch_processed 2/5\n",
      "/Users/aske/Desktop/Project_AI/project_ai/batch/45\n",
      "/Users/aske/Desktop/Project_AI/project_ai/Received_Batches/batch_processed 2/14\n",
      "/Users/aske/Desktop/Project_AI/project_ai/batch/46\n",
      "/Users/aske/Desktop/Project_AI/project_ai/Received_Batches/batch_processed 2/22\n",
      "/Users/aske/Desktop/Project_AI/project_ai/batch/47\n",
      "/Users/aske/Desktop/Project_AI/project_ai/Received_Batches/batch_processed/20\n",
      "/Users/aske/Desktop/Project_AI/project_ai/batch/48\n",
      "/Users/aske/Desktop/Project_AI/project_ai/Received_Batches/batch_processed/18\n",
      "/Users/aske/Desktop/Project_AI/project_ai/batch/49\n",
      "/Users/aske/Desktop/Project_AI/project_ai/Received_Batches/batch_processed/9\n",
      "/Users/aske/Desktop/Project_AI/project_ai/batch/50\n",
      "/Users/aske/Desktop/Project_AI/project_ai/Received_Batches/batch_processed/0\n",
      "/Users/aske/Desktop/Project_AI/project_ai/batch/51\n",
      "/Users/aske/Desktop/Project_AI/project_ai/Received_Batches/batch_processed/11\n",
      "/Users/aske/Desktop/Project_AI/project_ai/batch/52\n",
      "/Users/aske/Desktop/Project_AI/project_ai/Received_Batches/batch_processed/7\n",
      "/Users/aske/Desktop/Project_AI/project_ai/batch/53\n",
      "/Users/aske/Desktop/Project_AI/project_ai/Received_Batches/batch_processed/16\n",
      "/Users/aske/Desktop/Project_AI/project_ai/batch/54\n",
      "/Users/aske/Desktop/Project_AI/project_ai/Received_Batches/batch_processed/6\n",
      "/Users/aske/Desktop/Project_AI/project_ai/batch/55\n",
      "/Users/aske/Desktop/Project_AI/project_ai/Received_Batches/batch_processed/17\n",
      "/Users/aske/Desktop/Project_AI/project_ai/batch/56\n",
      "/Users/aske/Desktop/Project_AI/project_ai/Received_Batches/batch_processed/1\n",
      "/Users/aske/Desktop/Project_AI/project_ai/batch/57\n",
      "/Users/aske/Desktop/Project_AI/project_ai/Received_Batches/batch_processed/10\n",
      "/Users/aske/Desktop/Project_AI/project_ai/batch/58\n",
      "/Users/aske/Desktop/Project_AI/project_ai/Received_Batches/batch_processed/19\n",
      "/Users/aske/Desktop/Project_AI/project_ai/batch/59\n",
      "/Users/aske/Desktop/Project_AI/project_ai/Received_Batches/batch_processed/8\n",
      "/Users/aske/Desktop/Project_AI/project_ai/batch/60\n",
      "/Users/aske/Desktop/Project_AI/project_ai/Received_Batches/batch_processed/21\n",
      "/Users/aske/Desktop/Project_AI/project_ai/batch/61\n",
      "/Users/aske/Desktop/Project_AI/project_ai/Received_Batches/batch_processed/23\n",
      "/Users/aske/Desktop/Project_AI/project_ai/batch/62\n",
      "/Users/aske/Desktop/Project_AI/project_ai/Received_Batches/batch_processed/4\n",
      "/Users/aske/Desktop/Project_AI/project_ai/batch/63\n",
      "/Users/aske/Desktop/Project_AI/project_ai/Received_Batches/batch_processed/15\n",
      "/Users/aske/Desktop/Project_AI/project_ai/batch/64\n",
      "/Users/aske/Desktop/Project_AI/project_ai/Received_Batches/batch_processed/3\n",
      "/Users/aske/Desktop/Project_AI/project_ai/batch/65\n",
      "/Users/aske/Desktop/Project_AI/project_ai/Received_Batches/batch_processed/12\n",
      "/Users/aske/Desktop/Project_AI/project_ai/batch/66\n",
      "/Users/aske/Desktop/Project_AI/project_ai/Received_Batches/batch_processed/2\n",
      "/Users/aske/Desktop/Project_AI/project_ai/batch/67\n",
      "/Users/aske/Desktop/Project_AI/project_ai/Received_Batches/batch_processed/13\n",
      "/Users/aske/Desktop/Project_AI/project_ai/batch/68\n",
      "/Users/aske/Desktop/Project_AI/project_ai/Received_Batches/batch_processed/5\n",
      "/Users/aske/Desktop/Project_AI/project_ai/batch/69\n",
      "/Users/aske/Desktop/Project_AI/project_ai/Received_Batches/batch_processed/14\n",
      "/Users/aske/Desktop/Project_AI/project_ai/batch/70\n",
      "/Users/aske/Desktop/Project_AI/project_ai/Received_Batches/batch_processed/22\n",
      "/Users/aske/Desktop/Project_AI/project_ai/batch/71\n"
     ]
    }
   ],
   "source": [
    "# Add the unzipped batch folders into the \"Received_Batches\" folder\n",
    "\n",
    "source_folder = 'Received_Batches'\n",
    "dst = 'batch'\n",
    "print(dst)\n",
    "\n",
    "\n",
    "if not os.path.exists(dst):\n",
    "    os.makedirs(dst)\n",
    "    \n",
    "\n",
    "subfolders = os.listdir(os.path.join(cwd, source_folder))\n",
    "print(subfolders)\n",
    "\n",
    "i = 0\n",
    "\n",
    "for sub in subfolders:\n",
    "    if(sub != '.DS_Store'):\n",
    "        #print(sub)\n",
    "        \n",
    "        subsubfolders = os.listdir(os.path.join(os.path.join(cwd, source_folder), sub))\n",
    "        \n",
    "        for subsub in subsubfolders:\n",
    "    \n",
    "            if(\"Store\" in subsub):\n",
    "                    continue\n",
    "                \n",
    "            if(sub != '.DS_Store'):\n",
    "                #print(subsub)\n",
    "                if(i < 10):\n",
    "                    foldername = \"0\" + str(i)\n",
    "                else:\n",
    "                    foldername = str(i)\n",
    "                src = cwd + \"/\" + source_folder + \"/\" + sub + \"/\" + subsub\n",
    "                dest = cwd + \"/\" + dst + \"/\" + foldername\n",
    "                #print(src)\n",
    "                #print(dest)\n",
    "                move(src, dest)\n",
    "                i += 1\n",
    "                \n",
    "\n",
    "    # End up with a folder called batch with numbered subfolders"
   ]
  },
  {
   "cell_type": "code",
   "execution_count": null,
   "metadata": {
    "collapsed": true
   },
   "outputs": [],
   "source": []
  },
  {
   "cell_type": "markdown",
   "metadata": {},
   "source": [
    "## Clean and Preprocess"
   ]
  },
  {
   "cell_type": "code",
   "execution_count": 20,
   "metadata": {},
   "outputs": [
    {
     "name": "stdout",
     "output_type": "stream",
     "text": [
      "Total folders 72\n",
      "Processing folder 61\n",
      "Processing folder 59\n",
      "Processing folder 66\n",
      "Processing folder 50\n",
      "Processing folder 68\n",
      "Processing folder 57\n",
      "Processing folder 03\n",
      "Processing folder 04\n",
      "Processing folder 32\n",
      "Processing folder 35\n",
      "Processing folder 69\n",
      "Processing folder 56\n",
      "Processing folder 51\n",
      "Processing folder 58\n",
      "Processing folder 67\n",
      "Processing folder 60\n",
      "Processing folder 34\n",
      "Processing folder 33\n",
      "Processing folder 05\n",
      "Processing folder 02\n",
      "Processing folder 20\n",
      "Processing folder 18\n",
      "Processing folder 27\n",
      "Processing folder 11\n",
      "Processing folder 29\n",
      "Processing folder 16\n",
      "Processing folder 42\n",
      "Processing folder 45\n",
      "Processing folder 28\n",
      "Processing folder 17\n",
      "Processing folder 10\n",
      "Processing folder 19\n",
      "Processing folder 26\n",
      "Processing folder 21\n",
      "Processing folder 44\n",
      "Processing folder 43\n",
      "Processing folder 07\n",
      "Processing folder 38\n",
      "Processing folder 00\n",
      "Processing folder 36\n",
      "Processing folder 09\n",
      "Processing folder 31\n",
      "Processing folder 65\n",
      "Processing folder 62\n",
      "Processing folder 54\n",
      "Processing folder 53\n",
      "Processing folder 30\n",
      "Processing folder 37\n",
      "Processing folder 08\n",
      "Processing folder 01\n",
      "Processing folder 06\n",
      "Processing folder 39\n",
      "Processing folder 52\n",
      "Processing folder 55\n",
      "Processing folder 63\n",
      "Processing folder 64\n",
      "Processing folder 46\n",
      "Processing folder 41\n",
      "Processing folder 48\n",
      "Processing folder 70\n",
      "Processing folder 24\n",
      "Processing folder 23\n",
      "Processing folder 15\n",
      "Processing folder 12\n",
      "Processing folder 71\n",
      "Processing folder 49\n",
      "Processing folder 40\n",
      "Processing folder 47\n",
      "Processing folder 13\n",
      "Processing folder 14\n",
      "Processing folder 22\n",
      "Processing folder 25\n"
     ]
    }
   ],
   "source": [
    "# RUN THIS IN A FOLDER WITH THE BUNDLE FROM THE 3DU API\n",
    "\n",
    "frames = [\"HazzBerry\", \"GerretLight\", \"Enzo\", 'M14', 'M10']\n",
    "colors = ['obsidianBlack']\n",
    "#colors = ['obsidianBlack', 'glamourRed', 'goldPotato', 'tornadoBlue', 'lushGreen']\n",
    "\n",
    "result_dir_name = 'processed_data'\n",
    "\n",
    "if not os.path.exists(result_dir_name):\n",
    "        os.makedirs(result_dir_name)\n",
    "\n",
    "for pair in itertools.product(frames, colors):\n",
    "    folder_name = '_'.join(pair)\n",
    "    directry_name = result_dir_name +'/' + folder_name\n",
    "    if not os.path.exists(directry_name):\n",
    "        os.makedirs(directry_name)\n",
    "    \n",
    "subfolders = os.listdir(os.path.join(cwd,'batch'))\n",
    "\n",
    "print(\"Total folders \" + str(len(subfolders) - 1))\n",
    "\n",
    "for sub in subfolders:\n",
    "    if(sub != '.DS_Store'):\n",
    "        print(\"Processing folder \" + sub)\n",
    "        for subdir, dirs, files in os.walk(cwd+'/batch/' + sub):\n",
    "            \n",
    "            for file in files:\n",
    "                if(\"mask\" in file):\n",
    "                    continue\n",
    "                    \n",
    "                if(imghdr.what(os.path.join(subdir, file)) == 'png'):\n",
    "                    #print(file)\n",
    "                    if('_' in file):\n",
    "                        file_elements = file.split(\"_\")\n",
    "                        folder = file_elements[1] + '_' + file_elements[2]\n",
    "                        source = cwd+'/batch/' + sub + '/' + file\n",
    "                        dst = cwd + '/' + result_dir_name + '/' + folder + '/' +  sub + '_' + file\n",
    "                        copyfile(source, dst)\n"
   ]
  },
  {
   "cell_type": "markdown",
   "metadata": {
    "collapsed": true
   },
   "source": [
    "## Split section"
   ]
  },
  {
   "cell_type": "code",
   "execution_count": 21,
   "metadata": {
    "collapsed": true
   },
   "outputs": [],
   "source": []
  },
  {
   "cell_type": "code",
   "execution_count": 22,
   "metadata": {
    "collapsed": true
   },
   "outputs": [],
   "source": [
    "frames = ['HazzBerry', 'GerretLight', 'Enzo', 'M14', 'M10']\n",
    "# Available Frames: ['HazzBerry', 'GerretLight', 'Enzo', 'M14', 'M10']\n",
    "\n",
    "colors = ['obsidianBlack']\n",
    "# Available Colors: ['obsidianBlack', 'glamourRed', 'goldPotato', 'tornadoBlue', 'lushGreen']"
   ]
  },
  {
   "cell_type": "code",
   "execution_count": 23,
   "metadata": {},
   "outputs": [],
   "source": [
    "# make directories\n",
    "out_dir = 'augmented_data'\n",
    "os.makedirs(out_dir)\n",
    "os.makedirs(out_dir + '/train')\n",
    "os.makedirs(out_dir + '/val')"
   ]
  },
  {
   "cell_type": "code",
   "execution_count": 28,
   "metadata": {
    "collapsed": true
   },
   "outputs": [],
   "source": [
    "num_imgs = 216 # ADJUST THIS EVERY TIME\n",
    "perc_train = 0.8\n",
    "perc_val = 0.2\n",
    "\n",
    "num_train = int(0.8*num_imgs)\n",
    "num_val = num_imgs - num_train"
   ]
  },
  {
   "cell_type": "code",
   "execution_count": 29,
   "metadata": {},
   "outputs": [
    {
     "data": {
      "text/plain": [
       "172"
      ]
     },
     "execution_count": 29,
     "metadata": {},
     "output_type": "execute_result"
    }
   ],
   "source": [
    "num_train"
   ]
  },
  {
   "cell_type": "code",
   "execution_count": 31,
   "metadata": {},
   "outputs": [],
   "source": [
    "# divide pics to train/val\n",
    "for frame in frames:\n",
    "    for color in colors:\n",
    "        src_dir_name = 'processed_data'\n",
    "        class_dir = frame + '_' + color\n",
    "\n",
    "        # select train/val imgs of cur class\n",
    "        all_imgs = os.listdir(src_dir_name + '/' + class_dir)\n",
    "        all_imgs = np.random.permutation(all_imgs)\n",
    "        to_train = all_imgs[0:num_train]\n",
    "        to_val = all_imgs[num_train:]\n",
    "\n",
    "        # copy the imgs to directories\n",
    "        os.makedirs(out_dir + '/train' + '/' + class_dir)\n",
    "        os.makedirs(out_dir + '/val' + '/' + class_dir)\n",
    "\n",
    "        # train\n",
    "        for k in range(0, num_train):\n",
    "            src = cwd + '/' + src_dir_name + '/' + class_dir + '/' + to_train[k]\n",
    "            dst = cwd + '/' + out_dir + '/train' + '/' + class_dir + '/' + to_train[k]\n",
    "            copyfile(src, dst)\n",
    "\n",
    "        # val\n",
    "        for k in range(0, num_val):\n",
    "            src = cwd + '/' + src_dir_name + '/' + class_dir + '/' + to_val[k]\n",
    "            dst = cwd + '/' + out_dir + '/val' + '/' + class_dir + '/' + to_val[k]\n",
    "            copyfile(src, dst)"
   ]
  },
  {
   "cell_type": "code",
   "execution_count": null,
   "metadata": {
    "collapsed": true
   },
   "outputs": [],
   "source": []
  }
 ],
 "metadata": {
  "kernelspec": {
   "display_name": "Python 3",
   "language": "python",
   "name": "python3"
  },
  "language_info": {
   "codemirror_mode": {
    "name": "ipython",
    "version": 3
   },
   "file_extension": ".py",
   "mimetype": "text/x-python",
   "name": "python",
   "nbconvert_exporter": "python",
   "pygments_lexer": "ipython3",
   "version": "3.6.3"
  }
 },
 "nbformat": 4,
 "nbformat_minor": 2
}
