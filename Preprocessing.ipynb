{
 "cells": [
  {
   "cell_type": "markdown",
   "metadata": {},
   "source": [
    "# Preprocessing\n",
    "\n",
    "The clean and preprocess section will divide batch images into seperate class folders. \n",
    "\n",
    "The split section will divide those folders into train and validation sets. "
   ]
  },
  {
   "cell_type": "code",
   "execution_count": 28,
   "metadata": {
    "collapsed": true
   },
   "outputs": [],
   "source": [
    "import os\n",
    "import imghdr\n",
    "import itertools\n",
    "import numpy as np\n",
    "from shutil import copyfile"
   ]
  },
  {
   "cell_type": "markdown",
   "metadata": {},
   "source": [
    "## Clean and Preprocess"
   ]
  },
  {
   "cell_type": "code",
   "execution_count": 29,
   "metadata": {},
   "outputs": [
    {
     "name": "stdout",
     "output_type": "stream",
     "text": [
      "Total folders 2\n",
      "Processing folder 0\n",
      "Processing folder 1\n",
      "Processing folder 2\n"
     ]
    }
   ],
   "source": [
    "# RUN THIS IN A FOLDER WITH THE BUNDLE FROM THE 3DU API\n",
    "\n",
    "cwd = os.getcwd()\n",
    "\n",
    "frames = ['HazzBerry', 'GerretLight', 'Enzo']\n",
    "#frames = [\"HazzBerry\", \"GerretLight\", \"Enzo\", 'M14', 'M10']\n",
    "colors = ['obsidianBlack', 'glamourRed', 'goldPotato', 'tornadoBlue', 'lushGreen']\n",
    "\n",
    "result_dir_name = 'processed_data'\n",
    "\n",
    "if not os.path.exists(result_dir_name):\n",
    "        os.makedirs(result_dir_name)\n",
    "\n",
    "for pair in itertools.product(frames, colors):\n",
    "    folder_name = '_'.join(pair)\n",
    "    directry_name = result_dir_name +'/' + folder_name\n",
    "    if not os.path.exists(directry_name):\n",
    "        os.makedirs(directry_name)\n",
    "    \n",
    "subfolders = os.listdir(os.path.join(cwd,'batch'))\n",
    "\n",
    "print(\"Total folders \" + str(len(subfolders) - 1))\n",
    "\n",
    "for sub in subfolders:\n",
    "    if(sub != '.DS_Store'):\n",
    "        print(\"Processing folder \" + sub)\n",
    "        for subdir, dirs, files in os.walk(cwd+'/batch/' + sub):\n",
    "            \n",
    "            for file in files:\n",
    "                if(\"mask\" in file):\n",
    "                    continue\n",
    "                    \n",
    "                if(imghdr.what(os.path.join(subdir, file)) == 'png'):\n",
    "                    #print(file)\n",
    "                    if('_' in file):\n",
    "                        file_elements = file.split(\"_\")\n",
    "                        folder = file_elements[1] + '_' + file_elements[2]\n",
    "                        source = cwd+'/batch/' + sub + '/' + file\n",
    "                        dst = cwd + '/' + result_dir_name + '/' + folder + '/' +  sub + '_' + file\n",
    "                        copyfile(source, dst)\n"
   ]
  },
  {
   "cell_type": "markdown",
   "metadata": {
    "collapsed": true
   },
   "source": [
    "## Split section"
   ]
  },
  {
   "cell_type": "code",
   "execution_count": 30,
   "metadata": {
    "collapsed": true
   },
   "outputs": [],
   "source": [
    "cwd = os.getcwd()"
   ]
  },
  {
   "cell_type": "code",
   "execution_count": 31,
   "metadata": {
    "collapsed": true
   },
   "outputs": [],
   "source": [
    "frames = ['HazzBerry', 'GerretLight', 'Enzo']\n",
    "#frames = ['HazzBerry', 'GerretLight', 'Enzo', 'M14', 'M10']\n",
    "colors = ['obsidianBlack', 'glamourRed', 'goldPotato', 'tornadoBlue', 'lushGreen']"
   ]
  },
  {
   "cell_type": "code",
   "execution_count": 32,
   "metadata": {},
   "outputs": [],
   "source": [
    "# make directories\n",
    "out_dir = 'augmented_data'\n",
    "os.makedirs(out_dir)\n",
    "os.makedirs(out_dir + '/train')\n",
    "os.makedirs(out_dir + '/val')"
   ]
  },
  {
   "cell_type": "code",
   "execution_count": 33,
   "metadata": {
    "collapsed": true
   },
   "outputs": [],
   "source": [
    "num_imgs = 9*3 # ADJUST THIS EVERY TIME\n",
    "perc_train = 0.8\n",
    "perc_val = 0.2\n",
    "\n",
    "num_train = int(0.8*num_imgs)\n",
    "num_val = num_imgs - num_train"
   ]
  },
  {
   "cell_type": "code",
   "execution_count": 34,
   "metadata": {},
   "outputs": [
    {
     "data": {
      "text/plain": [
       "21"
      ]
     },
     "execution_count": 34,
     "metadata": {},
     "output_type": "execute_result"
    }
   ],
   "source": [
    "num_train"
   ]
  },
  {
   "cell_type": "code",
   "execution_count": 35,
   "metadata": {},
   "outputs": [],
   "source": [
    "# divide pics to train/val\n",
    "for frame in frames:\n",
    "    for color in colors:\n",
    "        src_dir_name = 'processed_data'\n",
    "        class_dir = frame + '_' + color\n",
    "\n",
    "        # select train/val imgs of cur class\n",
    "        all_imgs = os.listdir(src_dir_name + '/' + class_dir)\n",
    "        all_imgs = np.random.permutation(all_imgs)\n",
    "        to_train = all_imgs[0:num_train]\n",
    "        to_val = all_imgs[num_train:]\n",
    "\n",
    "        # copy the imgs to directories\n",
    "        os.makedirs(out_dir + '/train' + '/' + class_dir)\n",
    "        os.makedirs(out_dir + '/val' + '/' + class_dir)\n",
    "\n",
    "        # train\n",
    "        for k in range(0, num_train):\n",
    "            src = cwd + '/' + src_dir_name + '/' + class_dir + '/' + to_train[k]\n",
    "            dst = cwd + '/' + out_dir + '/train' + '/' + class_dir + '/' + to_train[k]\n",
    "            copyfile(src, dst)\n",
    "\n",
    "        # val\n",
    "        for k in range(0, num_val):\n",
    "            src = cwd + '/' + src_dir_name + '/' + class_dir + '/' + to_val[k]\n",
    "            dst = cwd + '/' + out_dir + '/val' + '/' + class_dir + '/' + to_val[k]\n",
    "            copyfile(src, dst)"
   ]
  }
 ],
 "metadata": {
  "kernelspec": {
   "display_name": "Python 3",
   "language": "python",
   "name": "python3"
  },
  "language_info": {
   "codemirror_mode": {
    "name": "ipython",
    "version": 3
   },
   "file_extension": ".py",
   "mimetype": "text/x-python",
   "name": "python",
   "nbconvert_exporter": "python",
   "pygments_lexer": "ipython3",
   "version": "3.6.3"
  }
 },
 "nbformat": 4,
 "nbformat_minor": 2
}
